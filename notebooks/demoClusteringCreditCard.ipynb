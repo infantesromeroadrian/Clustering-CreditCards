{
 "cells": [
  {
   "metadata": {
    "ExecuteTime": {
     "end_time": "2024-07-17T21:50:24.263665Z",
     "start_time": "2024-07-17T21:50:24.257494Z"
    }
   },
   "cell_type": "code",
   "source": [
    "import pandas as pd\n",
    "import numpy as np\n",
    "import matplotlib.pyplot as plt\n",
    "import seaborn as sns\n",
    "from scipy import stats\n",
    "from statistics import mode\n",
    "from sklearn.impute import SimpleImputer\n",
    "from sklearn.preprocessing import StandardScaler\n",
    "from sklearn.decomposition import PCA\n",
    "from sklearn.cluster import KMeans\n",
    "from sklearn.metrics import silhouette_score\n",
    "from mpl_toolkits.mplot3d import Axes3D\n",
    "from sklearn.model_selection import train_test_split\n",
    "from collections import Counter\n",
    "from sklearn.metrics import accuracy_score, confusion_matrix, classification_report\n",
    "import logging\n",
    "from functools import wraps\n",
    "from time import time\n",
    "import os"
   ],
   "id": "663e71a062f31728",
   "outputs": [],
   "execution_count": 44
  },
  {
   "cell_type": "code",
   "id": "initial_id",
   "metadata": {
    "collapsed": true,
    "ExecuteTime": {
     "end_time": "2024-07-17T21:38:47.801341Z",
     "start_time": "2024-07-17T21:38:47.797612Z"
    }
   },
   "source": [
    "# Configuración del logging\n",
    "logging.basicConfig(level=logging.INFO, format='%(asctime)s - %(levelname)s - %(message)s')\n",
    "\n",
    "def timer_decorator(func):\n",
    "    @wraps(func)\n",
    "    def wrapper(*args, **kwargs):\n",
    "        start_time = time()\n",
    "        result = func(*args, **kwargs)\n",
    "        end_time = time()\n",
    "        logging.info(f\"Función {func.__name__} ejecutada en {end_time - start_time:.2f} segundos\")\n",
    "        return result\n",
    "    return wrapper\n",
    "\n",
    "def log_decorator(func):\n",
    "    @wraps(func)\n",
    "    def wrapper(*args, **kwargs):\n",
    "        logging.info(f\"Ejecutando función: {func.__name__}\")\n",
    "        result = func(*args, **kwargs)\n",
    "        logging.info(f\"Función {func.__name__} completada\")\n",
    "        return result\n",
    "    return wrapper"
   ],
   "outputs": [],
   "execution_count": 2
  },
  {
   "metadata": {
    "ExecuteTime": {
     "end_time": "2024-07-17T21:38:48.565934Z",
     "start_time": "2024-07-17T21:38:48.562344Z"
    }
   },
   "cell_type": "code",
   "source": [
    "class CreditCardDataLoader:\n",
    "    def __init__(self, file_path):\n",
    "        self.file_path = file_path\n",
    "        self.data = None\n",
    "\n",
    "    @timer_decorator\n",
    "    @log_decorator\n",
    "    def load_data(self):\n",
    "        \"\"\"Carga los datos desde el archivo CSV.\"\"\"\n",
    "        try:\n",
    "            self.data = pd.read_csv(self.file_path)\n",
    "            logging.info(f\"Datos cargados exitosamente. Shape: {self.data.shape}\")\n",
    "        except Exception as e:\n",
    "            logging.error(f\"Error al cargar los datos: {str(e)}\")\n",
    "            raise\n",
    "\n",
    "    @log_decorator\n",
    "    def show_info(self):\n",
    "        \"\"\"Muestra información general sobre el DataFrame.\"\"\"\n",
    "        if self.data is None:\n",
    "            raise ValueError(\"Los datos no han sido cargados. Ejecute load_data() primero.\")\n",
    "        \n",
    "        logging.info(\"Información del DataFrame:\")\n",
    "        self.data.info()\n",
    "\n",
    "    @log_decorator\n",
    "    def show_columns(self):\n",
    "        \"\"\"Muestra las columnas del DataFrame.\"\"\"\n",
    "        if self.data is None:\n",
    "            raise ValueError(\"Los datos no han sido cargados. Ejecute load_data() primero.\")\n",
    "        \n",
    "        logging.info(\"Columnas del DataFrame:\")\n",
    "        print(self.data.columns.tolist())\n",
    "\n",
    "    @log_decorator\n",
    "    def show_null_values(self):\n",
    "        \"\"\"Muestra la cantidad de valores nulos por columna.\"\"\"\n",
    "        if self.data is None:\n",
    "            raise ValueError(\"Los datos no han sido cargados. Ejecute load_data() primero.\")\n",
    "        \n",
    "        logging.info(\"Valores nulos por columna:\")\n",
    "        print(self.data.isnull().sum())\n",
    "\n",
    "    def get_data(self):\n",
    "        \"\"\"Retorna el DataFrame cargado.\"\"\"\n",
    "        return self.data"
   ],
   "id": "4da9459966b9b139",
   "outputs": [],
   "execution_count": 3
  },
  {
   "metadata": {
    "ExecuteTime": {
     "end_time": "2024-07-17T21:38:49.219578Z",
     "start_time": "2024-07-17T21:38:49.203873Z"
    }
   },
   "cell_type": "code",
   "source": [
    "# Cargamos los datos\n",
    "\n",
    "data_loader = CreditCardDataLoader(\"../data/raw_data/creditcards.csv\")\n",
    "data_loader.load_data()"
   ],
   "id": "f06b6a09af0cdb80",
   "outputs": [
    {
     "name": "stderr",
     "output_type": "stream",
     "text": [
      "2024-07-17 23:38:49,204 - INFO - Ejecutando función: load_data\n",
      "2024-07-17 23:38:49,217 - INFO - Datos cargados exitosamente. Shape: (8950, 18)\n",
      "2024-07-17 23:38:49,218 - INFO - Función load_data completada\n",
      "2024-07-17 23:38:49,218 - INFO - Función load_data ejecutada en 0.01 segundos\n"
     ]
    }
   ],
   "execution_count": 4
  },
  {
   "metadata": {
    "ExecuteTime": {
     "end_time": "2024-07-17T21:38:50.027278Z",
     "start_time": "2024-07-17T21:38:50.019589Z"
    }
   },
   "cell_type": "code",
   "source": "data_loader.show_info()",
   "id": "5bfd7f5d03918d09",
   "outputs": [
    {
     "name": "stderr",
     "output_type": "stream",
     "text": [
      "2024-07-17 23:38:50,020 - INFO - Ejecutando función: show_info\n",
      "2024-07-17 23:38:50,020 - INFO - Información del DataFrame:\n",
      "2024-07-17 23:38:50,025 - INFO - Función show_info completada\n"
     ]
    },
    {
     "name": "stdout",
     "output_type": "stream",
     "text": [
      "<class 'pandas.core.frame.DataFrame'>\n",
      "RangeIndex: 8950 entries, 0 to 8949\n",
      "Data columns (total 18 columns):\n",
      " #   Column                            Non-Null Count  Dtype  \n",
      "---  ------                            --------------  -----  \n",
      " 0   CUST_ID                           8950 non-null   object \n",
      " 1   BALANCE                           8950 non-null   float64\n",
      " 2   BALANCE_FREQUENCY                 8950 non-null   float64\n",
      " 3   PURCHASES                         8950 non-null   float64\n",
      " 4   ONEOFF_PURCHASES                  8950 non-null   float64\n",
      " 5   INSTALLMENTS_PURCHASES            8950 non-null   float64\n",
      " 6   CASH_ADVANCE                      8950 non-null   float64\n",
      " 7   PURCHASES_FREQUENCY               8950 non-null   float64\n",
      " 8   ONEOFF_PURCHASES_FREQUENCY        8950 non-null   float64\n",
      " 9   PURCHASES_INSTALLMENTS_FREQUENCY  8950 non-null   float64\n",
      " 10  CASH_ADVANCE_FREQUENCY            8950 non-null   float64\n",
      " 11  CASH_ADVANCE_TRX                  8950 non-null   int64  \n",
      " 12  PURCHASES_TRX                     8950 non-null   int64  \n",
      " 13  CREDIT_LIMIT                      8949 non-null   float64\n",
      " 14  PAYMENTS                          8950 non-null   float64\n",
      " 15  MINIMUM_PAYMENTS                  8637 non-null   float64\n",
      " 16  PRC_FULL_PAYMENT                  8950 non-null   float64\n",
      " 17  TENURE                            8950 non-null   int64  \n",
      "dtypes: float64(14), int64(3), object(1)\n",
      "memory usage: 1.2+ MB\n"
     ]
    }
   ],
   "execution_count": 5
  },
  {
   "metadata": {
    "ExecuteTime": {
     "end_time": "2024-07-17T21:38:50.572428Z",
     "start_time": "2024-07-17T21:38:50.569967Z"
    }
   },
   "cell_type": "code",
   "source": "data_loader.show_columns()",
   "id": "ca5a5969bed4c25",
   "outputs": [
    {
     "name": "stderr",
     "output_type": "stream",
     "text": [
      "2024-07-17 23:38:50,570 - INFO - Ejecutando función: show_columns\n",
      "2024-07-17 23:38:50,570 - INFO - Columnas del DataFrame:\n",
      "2024-07-17 23:38:50,571 - INFO - Función show_columns completada\n"
     ]
    },
    {
     "name": "stdout",
     "output_type": "stream",
     "text": [
      "['CUST_ID', 'BALANCE', 'BALANCE_FREQUENCY', 'PURCHASES', 'ONEOFF_PURCHASES', 'INSTALLMENTS_PURCHASES', 'CASH_ADVANCE', 'PURCHASES_FREQUENCY', 'ONEOFF_PURCHASES_FREQUENCY', 'PURCHASES_INSTALLMENTS_FREQUENCY', 'CASH_ADVANCE_FREQUENCY', 'CASH_ADVANCE_TRX', 'PURCHASES_TRX', 'CREDIT_LIMIT', 'PAYMENTS', 'MINIMUM_PAYMENTS', 'PRC_FULL_PAYMENT', 'TENURE']\n"
     ]
    }
   ],
   "execution_count": 6
  },
  {
   "metadata": {
    "ExecuteTime": {
     "end_time": "2024-07-17T21:38:51.050211Z",
     "start_time": "2024-07-17T21:38:51.046005Z"
    }
   },
   "cell_type": "code",
   "source": "data_loader.show_null_values()",
   "id": "a88d3acd32add570",
   "outputs": [
    {
     "name": "stderr",
     "output_type": "stream",
     "text": [
      "2024-07-17 23:38:51,046 - INFO - Ejecutando función: show_null_values\n",
      "2024-07-17 23:38:51,047 - INFO - Valores nulos por columna:\n",
      "2024-07-17 23:38:51,048 - INFO - Función show_null_values completada\n"
     ]
    },
    {
     "name": "stdout",
     "output_type": "stream",
     "text": [
      "CUST_ID                               0\n",
      "BALANCE                               0\n",
      "BALANCE_FREQUENCY                     0\n",
      "PURCHASES                             0\n",
      "ONEOFF_PURCHASES                      0\n",
      "INSTALLMENTS_PURCHASES                0\n",
      "CASH_ADVANCE                          0\n",
      "PURCHASES_FREQUENCY                   0\n",
      "ONEOFF_PURCHASES_FREQUENCY            0\n",
      "PURCHASES_INSTALLMENTS_FREQUENCY      0\n",
      "CASH_ADVANCE_FREQUENCY                0\n",
      "CASH_ADVANCE_TRX                      0\n",
      "PURCHASES_TRX                         0\n",
      "CREDIT_LIMIT                          1\n",
      "PAYMENTS                              0\n",
      "MINIMUM_PAYMENTS                    313\n",
      "PRC_FULL_PAYMENT                      0\n",
      "TENURE                                0\n",
      "dtype: int64\n"
     ]
    }
   ],
   "execution_count": 7
  },
  {
   "metadata": {
    "ExecuteTime": {
     "end_time": "2024-07-17T21:38:51.496780Z",
     "start_time": "2024-07-17T21:38:51.482046Z"
    }
   },
   "cell_type": "code",
   "source": [
    "data = data_loader.get_data()\n",
    "data.head()"
   ],
   "id": "158853bd353c3ee6",
   "outputs": [
    {
     "data": {
      "text/plain": [
       "  CUST_ID      BALANCE  BALANCE_FREQUENCY  PURCHASES  ONEOFF_PURCHASES  \\\n",
       "0  C10001    40.900749           0.818182      95.40              0.00   \n",
       "1  C10002  3202.467416           0.909091       0.00              0.00   \n",
       "2  C10003  2495.148862           1.000000     773.17            773.17   \n",
       "3  C10004  1666.670542           0.636364    1499.00           1499.00   \n",
       "4  C10005   817.714335           1.000000      16.00             16.00   \n",
       "\n",
       "   INSTALLMENTS_PURCHASES  CASH_ADVANCE  PURCHASES_FREQUENCY  \\\n",
       "0                    95.4      0.000000             0.166667   \n",
       "1                     0.0   6442.945483             0.000000   \n",
       "2                     0.0      0.000000             1.000000   \n",
       "3                     0.0    205.788017             0.083333   \n",
       "4                     0.0      0.000000             0.083333   \n",
       "\n",
       "   ONEOFF_PURCHASES_FREQUENCY  PURCHASES_INSTALLMENTS_FREQUENCY  \\\n",
       "0                    0.000000                          0.083333   \n",
       "1                    0.000000                          0.000000   \n",
       "2                    1.000000                          0.000000   \n",
       "3                    0.083333                          0.000000   \n",
       "4                    0.083333                          0.000000   \n",
       "\n",
       "   CASH_ADVANCE_FREQUENCY  CASH_ADVANCE_TRX  PURCHASES_TRX  CREDIT_LIMIT  \\\n",
       "0                0.000000                 0              2        1000.0   \n",
       "1                0.250000                 4              0        7000.0   \n",
       "2                0.000000                 0             12        7500.0   \n",
       "3                0.083333                 1              1        7500.0   \n",
       "4                0.000000                 0              1        1200.0   \n",
       "\n",
       "      PAYMENTS  MINIMUM_PAYMENTS  PRC_FULL_PAYMENT  TENURE  \n",
       "0   201.802084        139.509787          0.000000      12  \n",
       "1  4103.032597       1072.340217          0.222222      12  \n",
       "2   622.066742        627.284787          0.000000      12  \n",
       "3     0.000000               NaN          0.000000      12  \n",
       "4   678.334763        244.791237          0.000000      12  "
      ],
      "text/html": [
       "<div>\n",
       "<style scoped>\n",
       "    .dataframe tbody tr th:only-of-type {\n",
       "        vertical-align: middle;\n",
       "    }\n",
       "\n",
       "    .dataframe tbody tr th {\n",
       "        vertical-align: top;\n",
       "    }\n",
       "\n",
       "    .dataframe thead th {\n",
       "        text-align: right;\n",
       "    }\n",
       "</style>\n",
       "<table border=\"1\" class=\"dataframe\">\n",
       "  <thead>\n",
       "    <tr style=\"text-align: right;\">\n",
       "      <th></th>\n",
       "      <th>CUST_ID</th>\n",
       "      <th>BALANCE</th>\n",
       "      <th>BALANCE_FREQUENCY</th>\n",
       "      <th>PURCHASES</th>\n",
       "      <th>ONEOFF_PURCHASES</th>\n",
       "      <th>INSTALLMENTS_PURCHASES</th>\n",
       "      <th>CASH_ADVANCE</th>\n",
       "      <th>PURCHASES_FREQUENCY</th>\n",
       "      <th>ONEOFF_PURCHASES_FREQUENCY</th>\n",
       "      <th>PURCHASES_INSTALLMENTS_FREQUENCY</th>\n",
       "      <th>CASH_ADVANCE_FREQUENCY</th>\n",
       "      <th>CASH_ADVANCE_TRX</th>\n",
       "      <th>PURCHASES_TRX</th>\n",
       "      <th>CREDIT_LIMIT</th>\n",
       "      <th>PAYMENTS</th>\n",
       "      <th>MINIMUM_PAYMENTS</th>\n",
       "      <th>PRC_FULL_PAYMENT</th>\n",
       "      <th>TENURE</th>\n",
       "    </tr>\n",
       "  </thead>\n",
       "  <tbody>\n",
       "    <tr>\n",
       "      <th>0</th>\n",
       "      <td>C10001</td>\n",
       "      <td>40.900749</td>\n",
       "      <td>0.818182</td>\n",
       "      <td>95.40</td>\n",
       "      <td>0.00</td>\n",
       "      <td>95.4</td>\n",
       "      <td>0.000000</td>\n",
       "      <td>0.166667</td>\n",
       "      <td>0.000000</td>\n",
       "      <td>0.083333</td>\n",
       "      <td>0.000000</td>\n",
       "      <td>0</td>\n",
       "      <td>2</td>\n",
       "      <td>1000.0</td>\n",
       "      <td>201.802084</td>\n",
       "      <td>139.509787</td>\n",
       "      <td>0.000000</td>\n",
       "      <td>12</td>\n",
       "    </tr>\n",
       "    <tr>\n",
       "      <th>1</th>\n",
       "      <td>C10002</td>\n",
       "      <td>3202.467416</td>\n",
       "      <td>0.909091</td>\n",
       "      <td>0.00</td>\n",
       "      <td>0.00</td>\n",
       "      <td>0.0</td>\n",
       "      <td>6442.945483</td>\n",
       "      <td>0.000000</td>\n",
       "      <td>0.000000</td>\n",
       "      <td>0.000000</td>\n",
       "      <td>0.250000</td>\n",
       "      <td>4</td>\n",
       "      <td>0</td>\n",
       "      <td>7000.0</td>\n",
       "      <td>4103.032597</td>\n",
       "      <td>1072.340217</td>\n",
       "      <td>0.222222</td>\n",
       "      <td>12</td>\n",
       "    </tr>\n",
       "    <tr>\n",
       "      <th>2</th>\n",
       "      <td>C10003</td>\n",
       "      <td>2495.148862</td>\n",
       "      <td>1.000000</td>\n",
       "      <td>773.17</td>\n",
       "      <td>773.17</td>\n",
       "      <td>0.0</td>\n",
       "      <td>0.000000</td>\n",
       "      <td>1.000000</td>\n",
       "      <td>1.000000</td>\n",
       "      <td>0.000000</td>\n",
       "      <td>0.000000</td>\n",
       "      <td>0</td>\n",
       "      <td>12</td>\n",
       "      <td>7500.0</td>\n",
       "      <td>622.066742</td>\n",
       "      <td>627.284787</td>\n",
       "      <td>0.000000</td>\n",
       "      <td>12</td>\n",
       "    </tr>\n",
       "    <tr>\n",
       "      <th>3</th>\n",
       "      <td>C10004</td>\n",
       "      <td>1666.670542</td>\n",
       "      <td>0.636364</td>\n",
       "      <td>1499.00</td>\n",
       "      <td>1499.00</td>\n",
       "      <td>0.0</td>\n",
       "      <td>205.788017</td>\n",
       "      <td>0.083333</td>\n",
       "      <td>0.083333</td>\n",
       "      <td>0.000000</td>\n",
       "      <td>0.083333</td>\n",
       "      <td>1</td>\n",
       "      <td>1</td>\n",
       "      <td>7500.0</td>\n",
       "      <td>0.000000</td>\n",
       "      <td>NaN</td>\n",
       "      <td>0.000000</td>\n",
       "      <td>12</td>\n",
       "    </tr>\n",
       "    <tr>\n",
       "      <th>4</th>\n",
       "      <td>C10005</td>\n",
       "      <td>817.714335</td>\n",
       "      <td>1.000000</td>\n",
       "      <td>16.00</td>\n",
       "      <td>16.00</td>\n",
       "      <td>0.0</td>\n",
       "      <td>0.000000</td>\n",
       "      <td>0.083333</td>\n",
       "      <td>0.083333</td>\n",
       "      <td>0.000000</td>\n",
       "      <td>0.000000</td>\n",
       "      <td>0</td>\n",
       "      <td>1</td>\n",
       "      <td>1200.0</td>\n",
       "      <td>678.334763</td>\n",
       "      <td>244.791237</td>\n",
       "      <td>0.000000</td>\n",
       "      <td>12</td>\n",
       "    </tr>\n",
       "  </tbody>\n",
       "</table>\n",
       "</div>"
      ]
     },
     "execution_count": 8,
     "metadata": {},
     "output_type": "execute_result"
    }
   ],
   "execution_count": 8
  },
  {
   "metadata": {
    "ExecuteTime": {
     "end_time": "2024-07-17T21:38:52.051641Z",
     "start_time": "2024-07-17T21:38:52.047920Z"
    }
   },
   "cell_type": "code",
   "source": [
    "class NullValueHandler:\n",
    "    def __init__(self, data):\n",
    "        self.data = data.copy()\n",
    "        self.original_dtypes = self.data.dtypes\n",
    "\n",
    "    @log_decorator\n",
    "    def show_null_info(self):\n",
    "        \"\"\"Muestra información sobre los valores nulos en el DataFrame.\"\"\"\n",
    "        null_counts = self.data.isnull().sum()\n",
    "        null_percentages = 100 * self.data.isnull().sum() / len(self.data)\n",
    "        null_table = pd.concat([null_counts, null_percentages], axis=1, keys=['Total', 'Porcentaje'])\n",
    "        print(null_table[null_table['Total'] > 0].sort_values('Total', ascending=False))\n",
    "\n",
    "    @timer_decorator\n",
    "    @log_decorator\n",
    "    def handle_nulls(self, strategy='mean', columns=None):\n",
    "        \"\"\"\n",
    "        Maneja los valores nulos en las columnas especificadas.\n",
    "        \n",
    "        :param strategy: Estrategia de imputación ('mean', 'median', 'most_frequent', 'constant')\n",
    "        :param columns: Lista de columnas a procesar. Si es None, se procesan todas las columnas con nulos.\n",
    "        \"\"\"\n",
    "        if columns is None:\n",
    "            columns = self.data.columns[self.data.isnull().any()].tolist()\n",
    "\n",
    "        for column in columns:\n",
    "            if self.data[column].dtype in ['int64', 'float64']:\n",
    "                imputer = SimpleImputer(strategy=strategy)\n",
    "                self.data[column] = imputer.fit_transform(self.data[[column]])\n",
    "                logging.info(f\"Valores nulos en {column} imputados usando {strategy}\")\n",
    "            else:\n",
    "                logging.warning(f\"La columna {column} no es numérica. No se puede aplicar la estrategia {strategy}\")\n",
    "\n",
    "    @log_decorator\n",
    "    def drop_nulls(self, threshold=None):\n",
    "        \"\"\"\n",
    "        Elimina filas con valores nulos.\n",
    "        \n",
    "        :param threshold: Número mínimo de valores no nulos para mantener una fila. Si es None, se eliminan todas las filas con al menos un nulo.\n",
    "        \"\"\"\n",
    "        original_shape = self.data.shape\n",
    "        self.data.dropna(thresh=threshold, inplace=True)\n",
    "        logging.info(f\"Filas eliminadas: {original_shape[0] - self.data.shape[0]}\")\n",
    "\n",
    "    @log_decorator\n",
    "    def restore_dtypes(self):\n",
    "        \"\"\"Restaura los tipos de datos originales después de la imputación.\"\"\"\n",
    "        for column, dtype in self.original_dtypes.items():\n",
    "            self.data[column] = self.data[column].astype(dtype)\n",
    "        logging.info(\"Tipos de datos originales restaurados\")\n",
    "\n",
    "    def get_processed_data(self):\n",
    "        \"\"\"Retorna el DataFrame procesado.\"\"\"\n",
    "        return self.data"
   ],
   "id": "4eee9549a492f0d1",
   "outputs": [],
   "execution_count": 9
  },
  {
   "metadata": {
    "ExecuteTime": {
     "end_time": "2024-07-17T21:38:52.688130Z",
     "start_time": "2024-07-17T21:38:52.682726Z"
    }
   },
   "cell_type": "code",
   "source": [
    "handler = NullValueHandler(data)\n",
    "handler.show_null_info()"
   ],
   "id": "5907fdedd281359e",
   "outputs": [
    {
     "name": "stderr",
     "output_type": "stream",
     "text": [
      "2024-07-17 23:38:52,683 - INFO - Ejecutando función: show_null_info\n",
      "2024-07-17 23:38:52,686 - INFO - Función show_null_info completada\n"
     ]
    },
    {
     "name": "stdout",
     "output_type": "stream",
     "text": [
      "                  Total  Porcentaje\n",
      "MINIMUM_PAYMENTS    313    3.497207\n",
      "CREDIT_LIMIT          1    0.011173\n"
     ]
    }
   ],
   "execution_count": 10
  },
  {
   "metadata": {
    "ExecuteTime": {
     "end_time": "2024-07-17T21:38:53.115100Z",
     "start_time": "2024-07-17T21:38:53.101854Z"
    }
   },
   "cell_type": "code",
   "source": [
    "# Manejamos los nulos en CREDIT_LIMIT y MINIMUM_PAYMENTS\n",
    "handler.handle_nulls(strategy='median', columns=['CREDIT_LIMIT', 'MINIMUM_PAYMENTS'])\n",
    "    \n",
    "handler.restore_dtypes()\n",
    "processed_df = handler.get_processed_data()\n",
    "    \n",
    "print(\"\\nInformación de nulos después del procesamiento:\")\n",
    "handler.show_null_info()"
   ],
   "id": "88ee12a4c852f0e1",
   "outputs": [
    {
     "name": "stderr",
     "output_type": "stream",
     "text": [
      "2024-07-17 23:38:53,102 - INFO - Ejecutando función: handle_nulls\n",
      "2024-07-17 23:38:53,105 - INFO - Valores nulos en CREDIT_LIMIT imputados usando median\n",
      "2024-07-17 23:38:53,108 - INFO - Valores nulos en MINIMUM_PAYMENTS imputados usando median\n",
      "2024-07-17 23:38:53,108 - INFO - Función handle_nulls completada\n",
      "2024-07-17 23:38:53,108 - INFO - Función handle_nulls ejecutada en 0.01 segundos\n",
      "2024-07-17 23:38:53,108 - INFO - Ejecutando función: restore_dtypes\n",
      "2024-07-17 23:38:53,110 - INFO - Tipos de datos originales restaurados\n",
      "2024-07-17 23:38:53,110 - INFO - Función restore_dtypes completada\n",
      "2024-07-17 23:38:53,111 - INFO - Ejecutando función: show_null_info\n",
      "2024-07-17 23:38:53,113 - INFO - Función show_null_info completada\n"
     ]
    },
    {
     "name": "stdout",
     "output_type": "stream",
     "text": [
      "\n",
      "Información de nulos después del procesamiento:\n",
      "Empty DataFrame\n",
      "Columns: [Total, Porcentaje]\n",
      "Index: []\n"
     ]
    }
   ],
   "execution_count": 11
  },
  {
   "metadata": {
    "ExecuteTime": {
     "end_time": "2024-07-17T21:38:53.726150Z",
     "start_time": "2024-07-17T21:38:53.670243Z"
    }
   },
   "cell_type": "code",
   "source": [
    "# Guardamos los datos limpios\n",
    "\n",
    "processed_df.to_csv(\"../data/processed_data/creditcards_preprocessed.csv\", index=False)"
   ],
   "id": "a339cd5e19585352",
   "outputs": [],
   "execution_count": 12
  },
  {
   "metadata": {
    "ExecuteTime": {
     "end_time": "2024-07-17T21:38:54.437903Z",
     "start_time": "2024-07-17T21:38:54.431689Z"
    }
   },
   "cell_type": "code",
   "source": [
    "class DataVisualizer:\n",
    "    def __init__(self, data, output_dir='visualizations'):\n",
    "        self.data = data\n",
    "        self.output_dir = output_dir\n",
    "        if not os.path.exists(self.output_dir):\n",
    "            os.makedirs(self.output_dir)\n",
    "        try:\n",
    "            plt.style.use('seaborn')\n",
    "        except:\n",
    "            logging.warning(\"El estilo 'seaborn' no está disponible. Se usará el estilo por defecto.\")\n",
    "\n",
    "    def save_figure(self, fig, filename):\n",
    "        \"\"\"Guarda la figura en el directorio de salida.\"\"\"\n",
    "        filepath = os.path.join(self.output_dir, filename)\n",
    "        fig.savefig(filepath)\n",
    "        logging.info(f\"Figura guardada en: {filepath}\")\n",
    "\n",
    "    @timer_decorator\n",
    "    @log_decorator\n",
    "    def plot_distribution(self, column, bins=30):\n",
    "        fig, ax = plt.subplots(figsize=(10, 6))\n",
    "        sns.histplot(self.data[column], bins=bins, kde=True, ax=ax)\n",
    "        ax.set_title(f'Distribución de {column}')\n",
    "        ax.set_xlabel(column)\n",
    "        ax.set_ylabel('Frecuencia')\n",
    "        self.save_figure(fig, f'distribution_{column}.png')\n",
    "        plt.close(fig)\n",
    "\n",
    "    @timer_decorator\n",
    "    @log_decorator\n",
    "    def plot_boxplot(self, column):\n",
    "        fig, ax = plt.subplots(figsize=(10, 6))\n",
    "        sns.boxplot(x=self.data[column], ax=ax)\n",
    "        ax.set_title(f'Boxplot de {column}')\n",
    "        self.save_figure(fig, f'boxplot_{column}.png')\n",
    "        plt.close(fig)\n",
    "\n",
    "    @timer_decorator\n",
    "    @log_decorator\n",
    "    def plot_correlation_heatmap(self, columns=None):\n",
    "        if columns is None:\n",
    "            columns = self.data.select_dtypes(include=[np.number]).columns\n",
    "        \n",
    "        corr = self.data[columns].corr()\n",
    "        fig, ax = plt.subplots(figsize=(12, 10))\n",
    "        sns.heatmap(corr, annot=True, cmap='coolwarm', linewidths=0.5, ax=ax)\n",
    "        ax.set_title('Mapa de Correlación')\n",
    "        self.save_figure(fig, 'correlation_heatmap.png')\n",
    "        plt.close(fig)\n",
    "\n",
    "    @timer_decorator\n",
    "    @log_decorator\n",
    "    def plot_scatter(self, x, y):\n",
    "        fig, ax = plt.subplots(figsize=(10, 6))\n",
    "        sns.scatterplot(data=self.data, x=x, y=y, ax=ax)\n",
    "        ax.set_title(f'Gráfico de dispersión: {x} vs {y}')\n",
    "        self.save_figure(fig, f'scatter_{x}_vs_{y}.png')\n",
    "        plt.close(fig)\n",
    "\n",
    "    @timer_decorator\n",
    "    @log_decorator\n",
    "    def plot_pairplot(self, columns=None):\n",
    "        if columns is None:\n",
    "            columns = self.data.select_dtypes(include=[np.number]).columns\n",
    "        \n",
    "        g = sns.pairplot(self.data[columns])\n",
    "        g.fig.suptitle('Pairplot de Variables', y=1.02)\n",
    "        self.save_figure(g.fig, 'pairplot.png')\n",
    "        plt.close(g.fig)\n",
    "\n",
    "    @timer_decorator\n",
    "    @log_decorator\n",
    "    def plot_categorical_distribution(self, column):\n",
    "        fig, ax = plt.subplots(figsize=(10, 6))\n",
    "        sns.countplot(data=self.data, x=column, ax=ax)\n",
    "        ax.set_title(f'Distribución de {column}')\n",
    "        ax.set_xticklabels(ax.get_xticklabels(), rotation=45)\n",
    "        self.save_figure(fig, f'categorical_distribution_{column}.png')\n",
    "        plt.close(fig)"
   ],
   "id": "31be35a87dded2f8",
   "outputs": [],
   "execution_count": 13
  },
  {
   "metadata": {
    "ExecuteTime": {
     "end_time": "2024-07-17T21:38:55.086061Z",
     "start_time": "2024-07-17T21:38:55.082775Z"
    }
   },
   "cell_type": "code",
   "source": "visualizer = DataVisualizer(processed_df)",
   "id": "1707cbf1b300596",
   "outputs": [
    {
     "name": "stderr",
     "output_type": "stream",
     "text": [
      "2024-07-17 23:38:55,083 - WARNING - El estilo 'seaborn' no está disponible. Se usará el estilo por defecto.\n"
     ]
    }
   ],
   "execution_count": 14
  },
  {
   "metadata": {
    "ExecuteTime": {
     "end_time": "2024-07-17T21:38:55.424905Z",
     "start_time": "2024-07-17T21:38:55.293023Z"
    }
   },
   "cell_type": "code",
   "source": [
    "# Ejemplos de uso\n",
    "visualizer.plot_distribution('BALANCE')"
   ],
   "id": "7bd07f733fb64d31",
   "outputs": [
    {
     "name": "stderr",
     "output_type": "stream",
     "text": [
      "2024-07-17 23:38:55,293 - INFO - Ejecutando función: plot_distribution\n",
      "2024-07-17 23:38:55,422 - INFO - Figura guardada en: visualizations/distribution_BALANCE.png\n",
      "2024-07-17 23:38:55,423 - INFO - Función plot_distribution completada\n",
      "2024-07-17 23:38:55,423 - INFO - Función plot_distribution ejecutada en 0.13 segundos\n"
     ]
    }
   ],
   "execution_count": 15
  },
  {
   "metadata": {
    "ExecuteTime": {
     "end_time": "2024-07-17T21:38:55.609975Z",
     "start_time": "2024-07-17T21:38:55.542741Z"
    }
   },
   "cell_type": "code",
   "source": "visualizer.plot_boxplot('CREDIT_LIMIT')",
   "id": "51605e52f31d6346",
   "outputs": [
    {
     "name": "stderr",
     "output_type": "stream",
     "text": [
      "2024-07-17 23:38:55,543 - INFO - Ejecutando función: plot_boxplot\n",
      "2024-07-17 23:38:55,608 - INFO - Figura guardada en: visualizations/boxplot_CREDIT_LIMIT.png\n",
      "2024-07-17 23:38:55,608 - INFO - Función plot_boxplot completada\n",
      "2024-07-17 23:38:55,608 - INFO - Función plot_boxplot ejecutada en 0.07 segundos\n"
     ]
    }
   ],
   "execution_count": 16
  },
  {
   "metadata": {
    "ExecuteTime": {
     "end_time": "2024-07-17T21:38:55.962614Z",
     "start_time": "2024-07-17T21:38:55.717340Z"
    }
   },
   "cell_type": "code",
   "source": "visualizer.plot_correlation_heatmap()",
   "id": "185940ae8091fdd8",
   "outputs": [
    {
     "name": "stderr",
     "output_type": "stream",
     "text": [
      "2024-07-17 23:38:55,717 - INFO - Ejecutando función: plot_correlation_heatmap\n",
      "2024-07-17 23:38:55,960 - INFO - Figura guardada en: visualizations/correlation_heatmap.png\n",
      "2024-07-17 23:38:55,961 - INFO - Función plot_correlation_heatmap completada\n",
      "2024-07-17 23:38:55,961 - INFO - Función plot_correlation_heatmap ejecutada en 0.24 segundos\n"
     ]
    }
   ],
   "execution_count": 17
  },
  {
   "metadata": {
    "ExecuteTime": {
     "end_time": "2024-07-17T21:38:56.048724Z",
     "start_time": "2024-07-17T21:38:55.963527Z"
    }
   },
   "cell_type": "code",
   "source": "visualizer.plot_scatter('BALANCE', 'CREDIT_LIMIT')    ",
   "id": "3462debda6ee5e2f",
   "outputs": [
    {
     "name": "stderr",
     "output_type": "stream",
     "text": [
      "2024-07-17 23:38:55,963 - INFO - Ejecutando función: plot_scatter\n",
      "2024-07-17 23:38:56,046 - INFO - Figura guardada en: visualizations/scatter_BALANCE_vs_CREDIT_LIMIT.png\n",
      "2024-07-17 23:38:56,046 - INFO - Función plot_scatter completada\n",
      "2024-07-17 23:38:56,047 - INFO - Función plot_scatter ejecutada en 0.08 segundos\n"
     ]
    }
   ],
   "execution_count": 18
  },
  {
   "metadata": {
    "ExecuteTime": {
     "end_time": "2024-07-17T21:38:57.414487Z",
     "start_time": "2024-07-17T21:38:56.049580Z"
    }
   },
   "cell_type": "code",
   "source": "visualizer.plot_pairplot(['BALANCE', 'PURCHASES', 'CREDIT_LIMIT', 'PAYMENTS'])",
   "id": "7153e15d0518674b",
   "outputs": [
    {
     "name": "stderr",
     "output_type": "stream",
     "text": [
      "2024-07-17 23:38:56,050 - INFO - Ejecutando función: plot_pairplot\n",
      "2024-07-17 23:38:57,412 - INFO - Figura guardada en: visualizations/pairplot.png\n",
      "2024-07-17 23:38:57,413 - INFO - Función plot_pairplot completada\n",
      "2024-07-17 23:38:57,413 - INFO - Función plot_pairplot ejecutada en 1.36 segundos\n"
     ]
    }
   ],
   "execution_count": 19
  },
  {
   "metadata": {
    "ExecuteTime": {
     "end_time": "2024-07-17T21:38:57.490608Z",
     "start_time": "2024-07-17T21:38:57.415569Z"
    }
   },
   "cell_type": "code",
   "source": "visualizer.plot_categorical_distribution('TENURE')",
   "id": "470904539ee6200",
   "outputs": [
    {
     "name": "stderr",
     "output_type": "stream",
     "text": [
      "2024-07-17 23:38:57,416 - INFO - Ejecutando función: plot_categorical_distribution\n",
      "2024-07-17 23:38:57,426 - INFO - Using categorical units to plot a list of strings that are all parsable as floats or dates. If these strings should be plotted as numbers, cast to the appropriate data type before plotting.\n",
      "2024-07-17 23:38:57,430 - INFO - Using categorical units to plot a list of strings that are all parsable as floats or dates. If these strings should be plotted as numbers, cast to the appropriate data type before plotting.\n",
      "/var/folders/wc/lkhs06_13qdbtd7gv1ffzts80000gn/T/ipykernel_52725/3206700388.py:77: UserWarning: set_ticklabels() should only be used with a fixed number of ticks, i.e. after set_ticks() or using a FixedLocator.\n",
      "  ax.set_xticklabels(ax.get_xticklabels(), rotation=45)\n",
      "2024-07-17 23:38:57,488 - INFO - Figura guardada en: visualizations/categorical_distribution_TENURE.png\n",
      "2024-07-17 23:38:57,488 - INFO - Función plot_categorical_distribution completada\n",
      "2024-07-17 23:38:57,489 - INFO - Función plot_categorical_distribution ejecutada en 0.07 segundos\n"
     ]
    }
   ],
   "execution_count": 20
  },
  {
   "metadata": {
    "ExecuteTime": {
     "end_time": "2024-07-17T21:38:58.318208Z",
     "start_time": "2024-07-17T21:38:58.312178Z"
    }
   },
   "cell_type": "code",
   "source": [
    "class CreditCardPreprocessor:\n",
    "    def __init__(self, data):\n",
    "        self.data = data.copy()\n",
    "        self.original_shape = self.data.shape\n",
    "        self.numeric_columns = self.data.select_dtypes(include=[np.number]).columns.tolist()\n",
    "        self.numeric_columns.remove('TENURE')  # Asumimos que TENURE no necesita ser normalizado\n",
    "\n",
    "    def handle_outliers(self, columns=None, method='iqr', threshold=1.5):\n",
    "        \"\"\"\n",
    "        Maneja los outliers en las columnas especificadas.\n",
    "        \n",
    "        :param columns: Lista de columnas para manejar outliers. Si es None, se usan todas las columnas numéricas.\n",
    "        :param method: 'iqr' para rango intercuartil o 'zscore' para puntuación Z.\n",
    "        :param threshold: Umbral para considerar un valor como outlier.\n",
    "        \"\"\"\n",
    "        if columns is None:\n",
    "            columns = self.numeric_columns\n",
    "        \n",
    "        for column in columns:\n",
    "            if method == 'iqr':\n",
    "                Q1 = self.data[column].quantile(0.25)\n",
    "                Q3 = self.data[column].quantile(0.75)\n",
    "                IQR = Q3 - Q1\n",
    "                lower_bound = Q1 - (threshold * IQR)\n",
    "                upper_bound = Q3 + (threshold * IQR)\n",
    "                self.data[column] = self.data[column].clip(lower_bound, upper_bound)\n",
    "            elif method == 'zscore':\n",
    "                z_scores = np.abs(stats.zscore(self.data[column]))\n",
    "                self.data[column] = self.data[column].mask(z_scores > threshold, self.data[column].median())\n",
    "        \n",
    "        logging.info(f\"Outliers manejados en las columnas: {columns}\")\n",
    "\n",
    "    def normalize_variables(self, columns=None):\n",
    "        \"\"\"\n",
    "        Normaliza las variables especificadas usando StandardScaler.\n",
    "        \n",
    "        :param columns: Lista de columnas para normalizar. Si es None, se usan todas las columnas numéricas excepto TENURE.\n",
    "        \"\"\"\n",
    "        if columns is None:\n",
    "            columns = [col for col in self.numeric_columns if col != 'TENURE']\n",
    "        \n",
    "        scaler = StandardScaler()\n",
    "        self.data[columns] = scaler.fit_transform(self.data[columns])\n",
    "        logging.info(f\"Variables normalizadas: {columns}\")\n",
    "\n",
    "    def create_features(self):\n",
    "        \"\"\"\n",
    "        Crea nuevas características basadas en el conocimiento del dominio y los datos existentes.\n",
    "        \"\"\"\n",
    "        # Ratio de compras a límite de crédito\n",
    "        self.data['PURCHASE_TO_CREDIT_RATIO'] = self.data['PURCHASES'] / self.data['CREDIT_LIMIT']\n",
    "        \n",
    "        # Ratio de pagos a compras\n",
    "        self.data['PAYMENT_TO_PURCHASE_RATIO'] = self.data['PAYMENTS'] / self.data['PURCHASES']\n",
    "        self.data['PAYMENT_TO_PURCHASE_RATIO'].replace([np.inf, -np.inf], np.nan, inplace=True)\n",
    "        self.data['PAYMENT_TO_PURCHASE_RATIO'].fillna(0, inplace=True)\n",
    "        \n",
    "        # Frecuencia total de compras\n",
    "        self.data['TOTAL_PURCHASE_FREQUENCY'] = self.data['PURCHASES_FREQUENCY'] + self.data['ONEOFF_PURCHASES_FREQUENCY'] + self.data['PURCHASES_INSTALLMENTS_FREQUENCY']\n",
    "        \n",
    "        logging.info(\"Nuevas características creadas: PURCHASE_TO_CREDIT_RATIO, PAYMENT_TO_PURCHASE_RATIO, TOTAL_PURCHASE_FREQUENCY\")\n",
    "\n",
    "    def preprocess_data(self):\n",
    "        \"\"\"\n",
    "        Aplica todos los pasos de preprocesamiento.\n",
    "        \"\"\"\n",
    "        self.handle_outliers()\n",
    "        self.normalize_variables()\n",
    "        self.create_features()\n",
    "        \n",
    "        logging.info(f\"Preprocesamiento completado. Shape original: {self.original_shape}, Shape nuevo: {self.data.shape}\")\n",
    "        return self.data"
   ],
   "id": "d271564c0dc04381",
   "outputs": [],
   "execution_count": 21
  },
  {
   "metadata": {
    "ExecuteTime": {
     "end_time": "2024-07-17T21:38:59.134488Z",
     "start_time": "2024-07-17T21:38:59.111358Z"
    }
   },
   "cell_type": "code",
   "source": [
    "# Asumimos que 'df' es tu DataFrame cargado\n",
    "preprocessor = CreditCardPreprocessor(processed_df)\n",
    "processed_df = preprocessor.preprocess_data()"
   ],
   "id": "853e57f53b235aff",
   "outputs": [
    {
     "name": "stderr",
     "output_type": "stream",
     "text": [
      "2024-07-17 23:38:59,127 - INFO - Outliers manejados en las columnas: ['BALANCE', 'BALANCE_FREQUENCY', 'PURCHASES', 'ONEOFF_PURCHASES', 'INSTALLMENTS_PURCHASES', 'CASH_ADVANCE', 'PURCHASES_FREQUENCY', 'ONEOFF_PURCHASES_FREQUENCY', 'PURCHASES_INSTALLMENTS_FREQUENCY', 'CASH_ADVANCE_FREQUENCY', 'CASH_ADVANCE_TRX', 'PURCHASES_TRX', 'CREDIT_LIMIT', 'PAYMENTS', 'MINIMUM_PAYMENTS', 'PRC_FULL_PAYMENT']\n",
      "2024-07-17 23:38:59,131 - INFO - Variables normalizadas: ['BALANCE', 'BALANCE_FREQUENCY', 'PURCHASES', 'ONEOFF_PURCHASES', 'INSTALLMENTS_PURCHASES', 'CASH_ADVANCE', 'PURCHASES_FREQUENCY', 'ONEOFF_PURCHASES_FREQUENCY', 'PURCHASES_INSTALLMENTS_FREQUENCY', 'CASH_ADVANCE_FREQUENCY', 'CASH_ADVANCE_TRX', 'PURCHASES_TRX', 'CREDIT_LIMIT', 'PAYMENTS', 'MINIMUM_PAYMENTS', 'PRC_FULL_PAYMENT']\n",
      "/var/folders/wc/lkhs06_13qdbtd7gv1ffzts80000gn/T/ipykernel_52725/386845333.py:55: FutureWarning: A value is trying to be set on a copy of a DataFrame or Series through chained assignment using an inplace method.\n",
      "The behavior will change in pandas 3.0. This inplace method will never work because the intermediate object on which we are setting values always behaves as a copy.\n",
      "\n",
      "For example, when doing 'df[col].method(value, inplace=True)', try using 'df.method({col: value}, inplace=True)' or df[col] = df[col].method(value) instead, to perform the operation inplace on the original object.\n",
      "\n",
      "\n",
      "  self.data['PAYMENT_TO_PURCHASE_RATIO'].replace([np.inf, -np.inf], np.nan, inplace=True)\n",
      "/var/folders/wc/lkhs06_13qdbtd7gv1ffzts80000gn/T/ipykernel_52725/386845333.py:56: FutureWarning: A value is trying to be set on a copy of a DataFrame or Series through chained assignment using an inplace method.\n",
      "The behavior will change in pandas 3.0. This inplace method will never work because the intermediate object on which we are setting values always behaves as a copy.\n",
      "\n",
      "For example, when doing 'df[col].method(value, inplace=True)', try using 'df.method({col: value}, inplace=True)' or df[col] = df[col].method(value) instead, to perform the operation inplace on the original object.\n",
      "\n",
      "\n",
      "  self.data['PAYMENT_TO_PURCHASE_RATIO'].fillna(0, inplace=True)\n",
      "2024-07-17 23:38:59,133 - INFO - Nuevas características creadas: PURCHASE_TO_CREDIT_RATIO, PAYMENT_TO_PURCHASE_RATIO, TOTAL_PURCHASE_FREQUENCY\n",
      "2024-07-17 23:38:59,133 - INFO - Preprocesamiento completado. Shape original: (8950, 18), Shape nuevo: (8950, 21)\n"
     ]
    }
   ],
   "execution_count": 22
  },
  {
   "metadata": {
    "ExecuteTime": {
     "end_time": "2024-07-17T21:39:00.207392Z",
     "start_time": "2024-07-17T21:39:00.197629Z"
    }
   },
   "cell_type": "code",
   "source": "processed_df.head()",
   "id": "d23b5ec17b7a4233",
   "outputs": [
    {
     "data": {
      "text/plain": [
       "  CUST_ID   BALANCE  BALANCE_FREQUENCY  PURCHASES  ONEOFF_PURCHASES  \\\n",
       "0  C10001 -0.877821          -1.021875  -0.729687         -0.692383   \n",
       "1  C10002  1.178546          -0.202708  -0.838160         -0.692383   \n",
       "2  C10003  0.718487           0.616459   0.040957          0.818320   \n",
       "3  C10004  0.179623          -1.886552   0.866246          2.128108   \n",
       "4  C10005 -0.372561           0.616459  -0.819967         -0.661121   \n",
       "\n",
       "   INSTALLMENTS_PURCHASES  CASH_ADVANCE  PURCHASES_FREQUENCY  \\\n",
       "0               -0.505216     -0.673507            -0.806490   \n",
       "1               -0.746029      2.115343            -1.221758   \n",
       "2               -0.746029     -0.673507             1.269843   \n",
       "3               -0.746029     -0.467401            -1.014125   \n",
       "4               -0.746029     -0.673507            -1.014125   \n",
       "\n",
       "   ONEOFF_PURCHASES_FREQUENCY  PURCHASES_INSTALLMENTS_FREQUENCY  ...  \\\n",
       "0                   -0.722749                         -0.707313  ...   \n",
       "1                   -0.722749                         -0.916995  ...   \n",
       "2                    2.210909                         -0.916995  ...   \n",
       "3                   -0.396788                         -0.916995  ...   \n",
       "4                   -0.396788                         -0.916995  ...   \n",
       "\n",
       "   CASH_ADVANCE_TRX  PURCHASES_TRX  CREDIT_LIMIT  PAYMENTS  MINIMUM_PAYMENTS  \\\n",
       "0         -0.697293      -0.737970     -1.010503 -0.899859         -0.784078   \n",
       "1          0.473089      -0.891333      0.762757  2.165375          0.968887   \n",
       "2         -0.697293       0.028848      0.910528 -0.569653          0.132544   \n",
       "3         -0.404697      -0.814651      0.910528 -1.058417         -0.459290   \n",
       "4         -0.697293      -0.814651     -0.951394 -0.525443         -0.586234   \n",
       "\n",
       "   PRC_FULL_PAYMENT  TENURE  PURCHASE_TO_CREDIT_RATIO  \\\n",
       "0         -0.629277      12                  0.722103   \n",
       "1          0.973961      12                 -1.098856   \n",
       "2         -0.629277      12                  0.044981   \n",
       "3         -0.629277      12                  0.951366   \n",
       "4         -0.629277      12                  0.861858   \n",
       "\n",
       "   PAYMENT_TO_PURCHASE_RATIO  TOTAL_PURCHASE_FREQUENCY  \n",
       "0                   1.233212                 -2.236552  \n",
       "1                  -2.583487                 -2.861502  \n",
       "2                 -13.908726                  2.563757  \n",
       "3                  -1.221844                 -2.327909  \n",
       "4                   0.640809                 -2.327909  \n",
       "\n",
       "[5 rows x 21 columns]"
      ],
      "text/html": [
       "<div>\n",
       "<style scoped>\n",
       "    .dataframe tbody tr th:only-of-type {\n",
       "        vertical-align: middle;\n",
       "    }\n",
       "\n",
       "    .dataframe tbody tr th {\n",
       "        vertical-align: top;\n",
       "    }\n",
       "\n",
       "    .dataframe thead th {\n",
       "        text-align: right;\n",
       "    }\n",
       "</style>\n",
       "<table border=\"1\" class=\"dataframe\">\n",
       "  <thead>\n",
       "    <tr style=\"text-align: right;\">\n",
       "      <th></th>\n",
       "      <th>CUST_ID</th>\n",
       "      <th>BALANCE</th>\n",
       "      <th>BALANCE_FREQUENCY</th>\n",
       "      <th>PURCHASES</th>\n",
       "      <th>ONEOFF_PURCHASES</th>\n",
       "      <th>INSTALLMENTS_PURCHASES</th>\n",
       "      <th>CASH_ADVANCE</th>\n",
       "      <th>PURCHASES_FREQUENCY</th>\n",
       "      <th>ONEOFF_PURCHASES_FREQUENCY</th>\n",
       "      <th>PURCHASES_INSTALLMENTS_FREQUENCY</th>\n",
       "      <th>...</th>\n",
       "      <th>CASH_ADVANCE_TRX</th>\n",
       "      <th>PURCHASES_TRX</th>\n",
       "      <th>CREDIT_LIMIT</th>\n",
       "      <th>PAYMENTS</th>\n",
       "      <th>MINIMUM_PAYMENTS</th>\n",
       "      <th>PRC_FULL_PAYMENT</th>\n",
       "      <th>TENURE</th>\n",
       "      <th>PURCHASE_TO_CREDIT_RATIO</th>\n",
       "      <th>PAYMENT_TO_PURCHASE_RATIO</th>\n",
       "      <th>TOTAL_PURCHASE_FREQUENCY</th>\n",
       "    </tr>\n",
       "  </thead>\n",
       "  <tbody>\n",
       "    <tr>\n",
       "      <th>0</th>\n",
       "      <td>C10001</td>\n",
       "      <td>-0.877821</td>\n",
       "      <td>-1.021875</td>\n",
       "      <td>-0.729687</td>\n",
       "      <td>-0.692383</td>\n",
       "      <td>-0.505216</td>\n",
       "      <td>-0.673507</td>\n",
       "      <td>-0.806490</td>\n",
       "      <td>-0.722749</td>\n",
       "      <td>-0.707313</td>\n",
       "      <td>...</td>\n",
       "      <td>-0.697293</td>\n",
       "      <td>-0.737970</td>\n",
       "      <td>-1.010503</td>\n",
       "      <td>-0.899859</td>\n",
       "      <td>-0.784078</td>\n",
       "      <td>-0.629277</td>\n",
       "      <td>12</td>\n",
       "      <td>0.722103</td>\n",
       "      <td>1.233212</td>\n",
       "      <td>-2.236552</td>\n",
       "    </tr>\n",
       "    <tr>\n",
       "      <th>1</th>\n",
       "      <td>C10002</td>\n",
       "      <td>1.178546</td>\n",
       "      <td>-0.202708</td>\n",
       "      <td>-0.838160</td>\n",
       "      <td>-0.692383</td>\n",
       "      <td>-0.746029</td>\n",
       "      <td>2.115343</td>\n",
       "      <td>-1.221758</td>\n",
       "      <td>-0.722749</td>\n",
       "      <td>-0.916995</td>\n",
       "      <td>...</td>\n",
       "      <td>0.473089</td>\n",
       "      <td>-0.891333</td>\n",
       "      <td>0.762757</td>\n",
       "      <td>2.165375</td>\n",
       "      <td>0.968887</td>\n",
       "      <td>0.973961</td>\n",
       "      <td>12</td>\n",
       "      <td>-1.098856</td>\n",
       "      <td>-2.583487</td>\n",
       "      <td>-2.861502</td>\n",
       "    </tr>\n",
       "    <tr>\n",
       "      <th>2</th>\n",
       "      <td>C10003</td>\n",
       "      <td>0.718487</td>\n",
       "      <td>0.616459</td>\n",
       "      <td>0.040957</td>\n",
       "      <td>0.818320</td>\n",
       "      <td>-0.746029</td>\n",
       "      <td>-0.673507</td>\n",
       "      <td>1.269843</td>\n",
       "      <td>2.210909</td>\n",
       "      <td>-0.916995</td>\n",
       "      <td>...</td>\n",
       "      <td>-0.697293</td>\n",
       "      <td>0.028848</td>\n",
       "      <td>0.910528</td>\n",
       "      <td>-0.569653</td>\n",
       "      <td>0.132544</td>\n",
       "      <td>-0.629277</td>\n",
       "      <td>12</td>\n",
       "      <td>0.044981</td>\n",
       "      <td>-13.908726</td>\n",
       "      <td>2.563757</td>\n",
       "    </tr>\n",
       "    <tr>\n",
       "      <th>3</th>\n",
       "      <td>C10004</td>\n",
       "      <td>0.179623</td>\n",
       "      <td>-1.886552</td>\n",
       "      <td>0.866246</td>\n",
       "      <td>2.128108</td>\n",
       "      <td>-0.746029</td>\n",
       "      <td>-0.467401</td>\n",
       "      <td>-1.014125</td>\n",
       "      <td>-0.396788</td>\n",
       "      <td>-0.916995</td>\n",
       "      <td>...</td>\n",
       "      <td>-0.404697</td>\n",
       "      <td>-0.814651</td>\n",
       "      <td>0.910528</td>\n",
       "      <td>-1.058417</td>\n",
       "      <td>-0.459290</td>\n",
       "      <td>-0.629277</td>\n",
       "      <td>12</td>\n",
       "      <td>0.951366</td>\n",
       "      <td>-1.221844</td>\n",
       "      <td>-2.327909</td>\n",
       "    </tr>\n",
       "    <tr>\n",
       "      <th>4</th>\n",
       "      <td>C10005</td>\n",
       "      <td>-0.372561</td>\n",
       "      <td>0.616459</td>\n",
       "      <td>-0.819967</td>\n",
       "      <td>-0.661121</td>\n",
       "      <td>-0.746029</td>\n",
       "      <td>-0.673507</td>\n",
       "      <td>-1.014125</td>\n",
       "      <td>-0.396788</td>\n",
       "      <td>-0.916995</td>\n",
       "      <td>...</td>\n",
       "      <td>-0.697293</td>\n",
       "      <td>-0.814651</td>\n",
       "      <td>-0.951394</td>\n",
       "      <td>-0.525443</td>\n",
       "      <td>-0.586234</td>\n",
       "      <td>-0.629277</td>\n",
       "      <td>12</td>\n",
       "      <td>0.861858</td>\n",
       "      <td>0.640809</td>\n",
       "      <td>-2.327909</td>\n",
       "    </tr>\n",
       "  </tbody>\n",
       "</table>\n",
       "<p>5 rows × 21 columns</p>\n",
       "</div>"
      ]
     },
     "execution_count": 23,
     "metadata": {},
     "output_type": "execute_result"
    }
   ],
   "execution_count": 23
  },
  {
   "metadata": {
    "ExecuteTime": {
     "end_time": "2024-07-17T21:41:20.127704Z",
     "start_time": "2024-07-17T21:41:20.121144Z"
    }
   },
   "cell_type": "code",
   "source": [
    "# 1. Aplicar PCA\n",
    "class CreditCardPCA:\n",
    "    def __init__(self, data):\n",
    "        self.data = data\n",
    "        self.features = [col for col in data.columns if col not in ['CUST_ID', 'TENURE']]\n",
    "        self.pca = None\n",
    "        self.pca_data = None\n",
    "\n",
    "    def apply_pca(self, n_components=None):\n",
    "        X = self.data[self.features]\n",
    "        self.pca = PCA(n_components=n_components)\n",
    "        self.pca_data = self.pca.fit_transform(X)\n",
    "        logging.info(f\"PCA aplicado. Número de componentes: {self.pca.n_components_}\")\n",
    "\n",
    "    def get_pca_data(self, n_components=None):\n",
    "        if n_components is None or n_components > self.pca.n_components_:\n",
    "            n_components = self.pca.n_components_\n",
    "        \n",
    "        pca_df = pd.DataFrame(\n",
    "            self.pca_data[:, :n_components],\n",
    "            columns=[f'PC{i+1}' for i in range(n_components)]\n",
    "        )\n",
    "        pca_df['CUST_ID'] = self.data['CUST_ID']\n",
    "        pca_df['TENURE'] = self.data['TENURE']\n",
    "        \n",
    "        return pca_df"
   ],
   "id": "f1c2b99f3efe03e2",
   "outputs": [],
   "execution_count": 27
  },
  {
   "metadata": {
    "ExecuteTime": {
     "end_time": "2024-07-17T21:41:26.068701Z",
     "start_time": "2024-07-17T21:41:26.059714Z"
    }
   },
   "cell_type": "code",
   "source": [
    "# Aplicar PCA\n",
    "pca_analyzer = CreditCardPCA(processed_df)\n",
    "pca_analyzer.apply_pca(n_components=3)  # O el número de componentes que desees\n",
    "pca_data = pca_analyzer.get_pca_data()"
   ],
   "id": "3c4ddcea3428354a",
   "outputs": [
    {
     "name": "stderr",
     "output_type": "stream",
     "text": [
      "2024-07-17 23:41:26,066 - INFO - PCA aplicado. Número de componentes: 3\n"
     ]
    }
   ],
   "execution_count": 28
  },
  {
   "metadata": {
    "ExecuteTime": {
     "end_time": "2024-07-17T21:41:49.833002Z",
     "start_time": "2024-07-17T21:41:49.823281Z"
    }
   },
   "cell_type": "code",
   "source": [
    "class CreditCardClusterPrep:\n",
    "    def __init__(self, pca_data):\n",
    "        self.pca_data = pca_data\n",
    "        self.prepared_data = None\n",
    "        self.kmeans_results = {}\n",
    "\n",
    "    def prepare_data(self):\n",
    "        pc_columns = [col for col in self.pca_data.columns if col.startswith('PC')]\n",
    "        self.prepared_data = self.pca_data[pc_columns + ['CUST_ID', 'TENURE']]\n",
    "        logging.info(f\"Datos preparados con {len(pc_columns)} componentes principales.\")\n",
    "        return self.prepared_data\n",
    "\n",
    "    def elbow_method(self, max_clusters=10):\n",
    "        \"\"\"\n",
    "        Implementa el método del codo para K-means.\n",
    "        \"\"\"\n",
    "        inertias = []\n",
    "        k_values = range(1, max_clusters + 1)\n",
    "        \n",
    "        for k in k_values:\n",
    "            kmeans = KMeans(n_clusters=k, random_state=42)\n",
    "            kmeans.fit(self.prepared_data.drop(['CUST_ID', 'TENURE'], axis=1))\n",
    "            inertias.append(kmeans.inertia_)\n",
    "            self.kmeans_results[k] = kmeans\n",
    "        \n",
    "        plt.figure(figsize=(10, 6))\n",
    "        plt.plot(k_values, inertias, 'bo-')\n",
    "        plt.xlabel('Número de Clusters (k)')\n",
    "        plt.ylabel('Inercia')\n",
    "        plt.title('Método del Codo para K-means')\n",
    "        plt.show()\n",
    "\n",
    "    def silhouette_analysis(self, max_clusters=10):\n",
    "        \"\"\"\n",
    "        Calcula y grafica el coeficiente de silueta para diferentes números de clusters.\n",
    "        \"\"\"\n",
    "        silhouette_scores = []\n",
    "        k_values = range(2, max_clusters + 1)  # Silhouette score no está definido para k=1\n",
    "        \n",
    "        for k in k_values:\n",
    "            kmeans = self.kmeans_results.get(k) or KMeans(n_clusters=k, random_state=42)\n",
    "            labels = kmeans.fit_predict(self.prepared_data.drop(['CUST_ID', 'TENURE'], axis=1))\n",
    "            score = silhouette_score(self.prepared_data.drop(['CUST_ID', 'TENURE'], axis=1), labels)\n",
    "            silhouette_scores.append(score)\n",
    "        \n",
    "        plt.figure(figsize=(10, 6))\n",
    "        plt.plot(k_values, silhouette_scores, 'bo-')\n",
    "        plt.xlabel('Número de Clusters (k)')\n",
    "        plt.ylabel('Coeficiente de Silueta')\n",
    "        plt.title('Análisis de Silueta para K-means')\n",
    "        plt.show()\n",
    "\n",
    "    def recommend_optimal_clusters(self):\n",
    "        \"\"\"\n",
    "        Recomienda un número óptimo de clusters basado en el método del codo y el análisis de silueta.\n",
    "        \"\"\"\n",
    "        # Implementación simple: encuentra el \"codo\" en la curva de inercia\n",
    "        inertias = [kmeans.inertia_ for kmeans in self.kmeans_results.values()]\n",
    "        inertia_changes = np.diff(inertias)\n",
    "        elbow_point = np.argmin(inertia_changes) + 2  # +2 porque empezamos desde k=1 y queremos el siguiente punto\n",
    "\n",
    "        # Encuentra el máximo coeficiente de silueta\n",
    "        silhouette_scores = [silhouette_score(self.prepared_data.drop(['CUST_ID', 'TENURE'], axis=1), \n",
    "                                              kmeans.labels_) for k, kmeans in self.kmeans_results.items() if k > 1]\n",
    "        max_silhouette_point = np.argmax(silhouette_scores) + 2  # +2 porque silhouette empieza desde k=2\n",
    "\n",
    "        logging.info(f\"Método del codo sugiere {elbow_point} clusters\")\n",
    "        logging.info(f\"Análisis de silueta sugiere {max_silhouette_point} clusters\")\n",
    "        \n",
    "        return elbow_point, max_silhouette_point\n",
    "    \n",
    "    def get_pca_data(self, n_components=None):\n",
    "        if n_components is None or n_components > self.pca.n_components_:\n",
    "            n_components = self.pca.n_components_\n",
    "        \n",
    "        pca_df = pd.DataFrame(\n",
    "            self.pca_data[:, :n_components],\n",
    "            columns=[f'PC{i+1}' for i in range(n_components)]\n",
    "        )\n",
    "        # Añadimos CUST_ID y TENURE después del PCA\n",
    "        pca_df['CUST_ID'] = self.data['CUST_ID']\n",
    "        pca_df['TENURE'] = self.data['TENURE']\n",
    "        \n",
    "        return pca_df"
   ],
   "id": "4c8d01bf7664e949",
   "outputs": [],
   "execution_count": 29
  },
  {
   "metadata": {
    "ExecuteTime": {
     "end_time": "2024-07-17T21:42:19.860302Z",
     "start_time": "2024-07-17T21:42:19.847639Z"
    }
   },
   "cell_type": "code",
   "source": [
    "# Asumimos que 'pca_data' es el DataFrame resultante del análisis PCA:\n",
    "cluster_prep = CreditCardClusterPrep(pca_data)\n",
    "cluster_prep.prepare_data()\n",
    "print(cluster_prep.prepared_data.head())"
   ],
   "id": "ae719874dddcc7d3",
   "outputs": [
    {
     "name": "stderr",
     "output_type": "stream",
     "text": [
      "2024-07-17 23:42:19,854 - INFO - Datos preparados con 3 componentes principales.\n"
     ]
    },
    {
     "name": "stdout",
     "output_type": "stream",
     "text": [
      "         PC1       PC2       PC3 CUST_ID  TENURE\n",
      "0   0.983467 -0.096554 -2.855234  C10001      12\n",
      "1  -2.839126 -1.951961 -3.519164  C10002      12\n",
      "2 -14.165937 -0.552534  2.683639  C10003      12\n",
      "3  -1.472846  0.175259 -2.196789  C10004      12\n",
      "4   0.390586  0.042699 -2.917545  C10005      12\n"
     ]
    }
   ],
   "execution_count": 31
  },
  {
   "metadata": {
    "ExecuteTime": {
     "end_time": "2024-07-17T21:42:44.492320Z",
     "start_time": "2024-07-17T21:42:31.056413Z"
    }
   },
   "cell_type": "code",
   "source": [
    "cluster_prep.elbow_method()\n",
    "cluster_prep.silhouette_analysis()\n",
    "\n",
    "elbow_suggestion, silhouette_suggestion = cluster_prep.recommend_optimal_clusters()\n",
    "print(f\"Sugerencia final de número de clusters: entre {min(elbow_suggestion, silhouette_suggestion)} y {max(elbow_suggestion, silhouette_suggestion)}\")"
   ],
   "id": "f1ae26cfbf43dc4f",
   "outputs": [
    {
     "data": {
      "text/plain": [
       "<Figure size 1000x600 with 1 Axes>"
      ],
      "image/png": "[encoded data removed]"
     },
     "metadata": {},
     "output_type": "display_data"
    },
    {
     "data": {
      "text/plain": [
       "<Figure size 1000x600 with 1 Axes>"
      ],
      "image/png": "[encoded data removed]"
     },
     "metadata": {},
     "output_type": "display_data"
    },
    {
     "name": "stderr",
     "output_type": "stream",
     "text": [
      "2024-07-17 23:42:44,490 - INFO - Método del codo sugiere 2 clusters\n",
      "2024-07-17 23:42:44,490 - INFO - Análisis de silueta sugiere 3 clusters\n"
     ]
    },
    {
     "name": "stdout",
     "output_type": "stream",
     "text": [
      "Sugerencia final de número de clusters: entre 2 y 3\n"
     ]
    }
   ],
   "execution_count": 32
  },
  {
   "metadata": {
    "ExecuteTime": {
     "end_time": "2024-07-17T21:55:43.571045Z",
     "start_time": "2024-07-17T21:55:43.557498Z"
    }
   },
   "cell_type": "code",
   "source": [
    "class CreditCardClusterAnalyzer:\n",
    "    def __init__(self, pca_data, original_data):\n",
    "        self.pca_data = pca_data\n",
    "        self.original_data = original_data\n",
    "        self.cluster_results = {}\n",
    "        self.silhouette_scores = {}\n",
    "\n",
    "    def perform_clustering(self, n_clusters_list=[2, 3]):\n",
    "        for n_clusters in n_clusters_list:\n",
    "            kmeans = KMeans(n_clusters=n_clusters, random_state=42)\n",
    "            labels = kmeans.fit_predict(self.pca_data.drop(['CUST_ID', 'TENURE'], axis=1, errors='ignore'))\n",
    "            self.cluster_results[n_clusters] = labels\n",
    "            self.silhouette_scores[n_clusters] = silhouette_score(\n",
    "                self.pca_data.drop(['CUST_ID', 'TENURE'], axis=1, errors='ignore'), labels\n",
    "            )\n",
    "            logging.info(f\"Clustering realizado con {n_clusters} clusters. \"\n",
    "                         f\"Silhouette Score: {self.silhouette_scores[n_clusters]:.4f}\")\n",
    "\n",
    "\n",
    "    def visualize_clusters_2d(self, n_clusters):\n",
    "        \"\"\"\n",
    "        Crea un gráfico de dispersión 2D de los clusters.\n",
    "        \"\"\"\n",
    "        plt.figure(figsize=(10, 8))\n",
    "        scatter = plt.scatter(self.pca_data['PC1'], self.pca_data['PC2'], \n",
    "                              c=self.cluster_results[n_clusters], cmap='viridis')\n",
    "        plt.title(f'Visualización de Clusters ({n_clusters} clusters)')\n",
    "        plt.xlabel('Primer Componente Principal')\n",
    "        plt.ylabel('Segundo Componente Principal')\n",
    "        plt.colorbar(scatter)\n",
    "        plt.show()\n",
    "\n",
    "    def visualize_clusters_3d(self, n_clusters):\n",
    "        \"\"\"\n",
    "        Crea un gráfico de dispersión 3D de los clusters.\n",
    "        \"\"\"\n",
    "        fig = plt.figure(figsize=(12, 9))\n",
    "        ax = fig.add_subplot(111, projection='3d')\n",
    "        scatter = ax.scatter(self.pca_data['PC1'], self.pca_data['PC2'], self.pca_data['PC3'],\n",
    "                             c=self.cluster_results[n_clusters], cmap='viridis')\n",
    "        ax.set_title(f'Visualización 3D de Clusters ({n_clusters} clusters)')\n",
    "        ax.set_xlabel('PC1')\n",
    "        ax.set_ylabel('PC2')\n",
    "        ax.set_zlabel('PC3')\n",
    "        plt.colorbar(scatter)\n",
    "        plt.show()\n",
    "\n",
    "    def characterize_clusters(self, n_clusters):\n",
    "        \"\"\"\n",
    "        Calcula y muestra estadísticas descriptivas de cada cluster.\n",
    "        \"\"\"\n",
    "        self.pca_data['Cluster'] = self.cluster_results[n_clusters]\n",
    "        \n",
    "        numeric_columns = self.pca_data.select_dtypes(include=[np.number]).columns\n",
    "        \n",
    "        cluster_stats = self.pca_data.groupby('Cluster')[numeric_columns].agg(['mean', 'median', 'std'])\n",
    "        print(f\"Estadísticas de clusters para {n_clusters} clusters:\")\n",
    "        print(cluster_stats)\n",
    "        return cluster_stats\n",
    "\n",
    "    def map_to_original_features(self, n_clusters):\n",
    "        \"\"\"\n",
    "        Mapea los clusters a las características originales.\n",
    "        \"\"\"\n",
    "        self.original_data['Cluster'] = self.cluster_results[n_clusters]\n",
    "        \n",
    "        numeric_columns = self.original_data.select_dtypes(include=[np.number]).columns\n",
    "        \n",
    "        original_cluster_stats = self.original_data.groupby('Cluster')[numeric_columns].agg(['mean', 'median', 'std'])\n",
    "        print(f\"Estadísticas de características originales para {n_clusters} clusters:\")\n",
    "        print(original_cluster_stats)\n",
    "        return original_cluster_stats\n",
    "\n",
    "    def analyze_client_profiles(self, n_clusters):\n",
    "        \"\"\"\n",
    "        Examina las características distintivas de cada cluster y crea perfiles de cliente.\n",
    "        \"\"\"\n",
    "        profiles = {}\n",
    "        for cluster in range(n_clusters):\n",
    "            cluster_data = self.original_data[self.original_data['Cluster'] == cluster]\n",
    "            profile = {\n",
    "                'size': len(cluster_data),\n",
    "                'avg_balance': cluster_data['BALANCE'].mean(),\n",
    "                'avg_purchases': cluster_data['PURCHASES'].mean(),\n",
    "                'avg_credit_limit': cluster_data['CREDIT_LIMIT'].mean(),\n",
    "                'common_tenure': cluster_data['TENURE'].mode().values[0]\n",
    "            }\n",
    "            profiles[cluster] = profile\n",
    "            print(f\"Perfil del Cluster {cluster}:\")\n",
    "            print(profile)\n",
    "            print(\"\\n\")\n",
    "        return profiles\n",
    "\n",
    "    def validate_clustering(self):\n",
    "        \"\"\"\n",
    "        Calcula y muestra métricas de validación para cada solución de clustering.\n",
    "        \"\"\"\n",
    "        for n_clusters, score in self.silhouette_scores.items():\n",
    "            print(f\"Coeficiente de silueta para {n_clusters} clusters: {score:.4f}\")\n",
    "\n",
    "    def interpret_results(self, n_clusters):\n",
    "        \"\"\"\n",
    "        Interpreta los resultados del clustering y sugiere estrategias de negocio.\n",
    "        \"\"\"\n",
    "        profiles = self.analyze_client_profiles(n_clusters)\n",
    "        for cluster, profile in profiles.items():\n",
    "            print(f\"Interpretación del Cluster {cluster}:\")\n",
    "            if profile['avg_balance'] > self.original_data['BALANCE'].mean():\n",
    "                print(\"- Clientes con saldo alto\")\n",
    "            else:\n",
    "                print(\"- Clientes con saldo bajo\")\n",
    "            if profile['avg_purchases'] > self.original_data['PURCHASES'].mean():\n",
    "                print(\"- Compradores frecuentes\")\n",
    "            else:\n",
    "                print(\"- Compradores poco frecuentes\")\n",
    "            print(f\"- Límite de crédito promedio: ${profile['avg_credit_limit']:.2f}\")\n",
    "            print(f\"- Antigüedad típica: {profile['common_tenure']} meses\")\n",
    "            print(\"\\nEstrategias sugeridas:\")\n",
    "            if profile['avg_purchases'] > self.original_data['PURCHASES'].mean():\n",
    "                print(\"- Ofrecer programas de recompensas para mantener la lealtad\")\n",
    "            else:\n",
    "                print(\"- Incentivar el uso de la tarjeta con promociones especiales\")\n",
    "            if profile['avg_balance'] > self.original_data['BALANCE'].mean():\n",
    "                print(\"- Ofrecer productos de ahorro o inversión\")\n",
    "            else:\n",
    "                print(\"- Considerar aumentar el límite de crédito para clientes confiables\")\n",
    "            print(\"\\n\")"
   ],
   "id": "57b9a59be294323a",
   "outputs": [],
   "execution_count": 55
  },
  {
   "metadata": {
    "ExecuteTime": {
     "end_time": "2024-07-17T21:55:46.046282Z",
     "start_time": "2024-07-17T21:55:44.351929Z"
    }
   },
   "cell_type": "code",
   "source": [
    "analyzer = CreditCardClusterAnalyzer(pca_data, processed_df)\n",
    "analyzer.perform_clustering()"
   ],
   "id": "8c14de5118f46e62",
   "outputs": [
    {
     "name": "stderr",
     "output_type": "stream",
     "text": [
      "2024-07-17 23:55:45,303 - INFO - Clustering realizado con 2 clusters. Silhouette Score: 0.9874\n",
      "2024-07-17 23:55:46,044 - INFO - Clustering realizado con 3 clusters. Silhouette Score: 0.9879\n"
     ]
    }
   ],
   "execution_count": 56
  },
  {
   "metadata": {
    "ExecuteTime": {
     "end_time": "2024-07-17T21:55:48.446788Z",
     "start_time": "2024-07-17T21:55:48.271715Z"
    }
   },
   "cell_type": "code",
   "source": "analyzer.visualize_clusters_2d(2)",
   "id": "3710d46d27d053e1",
   "outputs": [
    {
     "data": {
      "text/plain": [
       "<Figure size 1000x800 with 2 Axes>"
      ],
      "image/png": "[encoded data removed]"
     },
     "metadata": {},
     "output_type": "display_data"
    }
   ],
   "execution_count": 57
  },
  {
   "metadata": {
    "ExecuteTime": {
     "end_time": "2024-07-17T21:55:49.967420Z",
     "start_time": "2024-07-17T21:55:49.761974Z"
    }
   },
   "cell_type": "code",
   "source": "analyzer.visualize_clusters_3d(3)",
   "id": "530c32dd80b63375",
   "outputs": [
    {
     "data": {
      "text/plain": [
       "<Figure size 1200x900 with 2 Axes>"
      ],
      "image/png": "[encoded data removed]"
     },
     "metadata": {},
     "output_type": "display_data"
    }
   ],
   "execution_count": 58
  },
  {
   "metadata": {
    "ExecuteTime": {
     "end_time": "2024-07-17T21:55:52.365190Z",
     "start_time": "2024-07-17T21:55:52.350860Z"
    }
   },
   "cell_type": "code",
   "source": "analyzer.characterize_clusters(2)",
   "id": "95101682b7b08d9e",
   "outputs": [
    {
     "name": "stdout",
     "output_type": "stream",
     "text": [
      "Estadísticas de clusters para 2 clusters:\n",
      "                PC1                               PC2                      \\\n",
      "               mean      median         std      mean    median       std   \n",
      "Cluster                                                                     \n",
      "0          0.742730    0.532717   22.810888  0.000227 -0.133737  9.272457   \n",
      "1       -830.186805 -740.428661  428.081521 -0.254238 -0.241447  0.201814   \n",
      "\n",
      "              PC3                         TENURE                  Cluster  \\\n",
      "             mean    median       std       mean median       std    mean   \n",
      "Cluster                                                                     \n",
      "0       -0.000763 -0.421676  3.292582  11.518117   12.0  1.337080     0.0   \n",
      "1        0.852443  0.267864  1.390080  10.625000   12.0  2.326094     1.0   \n",
      "\n",
      "                     \n",
      "        median  std  \n",
      "Cluster              \n",
      "0          0.0  0.0  \n",
      "1          1.0  0.0  \n"
     ]
    },
    {
     "data": {
      "text/plain": [
       "                PC1                               PC2                      \\\n",
       "               mean      median         std      mean    median       std   \n",
       "Cluster                                                                     \n",
       "0          0.742730    0.532717   22.810888  0.000227 -0.133737  9.272457   \n",
       "1       -830.186805 -740.428661  428.081521 -0.254238 -0.241447  0.201814   \n",
       "\n",
       "              PC3                         TENURE                  Cluster  \\\n",
       "             mean    median       std       mean median       std    mean   \n",
       "Cluster                                                                     \n",
       "0       -0.000763 -0.421676  3.292582  11.518117   12.0  1.337080     0.0   \n",
       "1        0.852443  0.267864  1.390080  10.625000   12.0  2.326094     1.0   \n",
       "\n",
       "                     \n",
       "        median  std  \n",
       "Cluster              \n",
       "0          0.0  0.0  \n",
       "1          1.0  0.0  "
      ],
      "text/html": [
       "<div>\n",
       "<style scoped>\n",
       "    .dataframe tbody tr th:only-of-type {\n",
       "        vertical-align: middle;\n",
       "    }\n",
       "\n",
       "    .dataframe tbody tr th {\n",
       "        vertical-align: top;\n",
       "    }\n",
       "\n",
       "    .dataframe thead tr th {\n",
       "        text-align: left;\n",
       "    }\n",
       "\n",
       "    .dataframe thead tr:last-of-type th {\n",
       "        text-align: right;\n",
       "    }\n",
       "</style>\n",
       "<table border=\"1\" class=\"dataframe\">\n",
       "  <thead>\n",
       "    <tr>\n",
       "      <th></th>\n",
       "      <th colspan=\"3\" halign=\"left\">PC1</th>\n",
       "      <th colspan=\"3\" halign=\"left\">PC2</th>\n",
       "      <th colspan=\"3\" halign=\"left\">PC3</th>\n",
       "      <th colspan=\"3\" halign=\"left\">TENURE</th>\n",
       "      <th colspan=\"3\" halign=\"left\">Cluster</th>\n",
       "    </tr>\n",
       "    <tr>\n",
       "      <th></th>\n",
       "      <th>mean</th>\n",
       "      <th>median</th>\n",
       "      <th>std</th>\n",
       "      <th>mean</th>\n",
       "      <th>median</th>\n",
       "      <th>std</th>\n",
       "      <th>mean</th>\n",
       "      <th>median</th>\n",
       "      <th>std</th>\n",
       "      <th>mean</th>\n",
       "      <th>median</th>\n",
       "      <th>std</th>\n",
       "      <th>mean</th>\n",
       "      <th>median</th>\n",
       "      <th>std</th>\n",
       "    </tr>\n",
       "    <tr>\n",
       "      <th>Cluster</th>\n",
       "      <th></th>\n",
       "      <th></th>\n",
       "      <th></th>\n",
       "      <th></th>\n",
       "      <th></th>\n",
       "      <th></th>\n",
       "      <th></th>\n",
       "      <th></th>\n",
       "      <th></th>\n",
       "      <th></th>\n",
       "      <th></th>\n",
       "      <th></th>\n",
       "      <th></th>\n",
       "      <th></th>\n",
       "      <th></th>\n",
       "    </tr>\n",
       "  </thead>\n",
       "  <tbody>\n",
       "    <tr>\n",
       "      <th>0</th>\n",
       "      <td>0.742730</td>\n",
       "      <td>0.532717</td>\n",
       "      <td>22.810888</td>\n",
       "      <td>0.000227</td>\n",
       "      <td>-0.133737</td>\n",
       "      <td>9.272457</td>\n",
       "      <td>-0.000763</td>\n",
       "      <td>-0.421676</td>\n",
       "      <td>3.292582</td>\n",
       "      <td>11.518117</td>\n",
       "      <td>12.0</td>\n",
       "      <td>1.337080</td>\n",
       "      <td>0.0</td>\n",
       "      <td>0.0</td>\n",
       "      <td>0.0</td>\n",
       "    </tr>\n",
       "    <tr>\n",
       "      <th>1</th>\n",
       "      <td>-830.186805</td>\n",
       "      <td>-740.428661</td>\n",
       "      <td>428.081521</td>\n",
       "      <td>-0.254238</td>\n",
       "      <td>-0.241447</td>\n",
       "      <td>0.201814</td>\n",
       "      <td>0.852443</td>\n",
       "      <td>0.267864</td>\n",
       "      <td>1.390080</td>\n",
       "      <td>10.625000</td>\n",
       "      <td>12.0</td>\n",
       "      <td>2.326094</td>\n",
       "      <td>1.0</td>\n",
       "      <td>1.0</td>\n",
       "      <td>0.0</td>\n",
       "    </tr>\n",
       "  </tbody>\n",
       "</table>\n",
       "</div>"
      ]
     },
     "execution_count": 59,
     "metadata": {},
     "output_type": "execute_result"
    }
   ],
   "execution_count": 59
  },
  {
   "metadata": {
    "ExecuteTime": {
     "end_time": "2024-07-17T21:55:53.834543Z",
     "start_time": "2024-07-17T21:55:53.808938Z"
    }
   },
   "cell_type": "code",
   "source": "analyzer.map_to_original_features(3)",
   "id": "7b8359505d967974",
   "outputs": [
    {
     "name": "stdout",
     "output_type": "stream",
     "text": [
      "Estadísticas de características originales para 3 clusters:\n",
      "          BALANCE                     BALANCE_FREQUENCY                      \\\n",
      "             mean    median       std              mean    median       std   \n",
      "Cluster                                                                       \n",
      "0        0.000127 -0.336543  1.000370          0.000804  0.616459  0.999535   \n",
      "1        0.032901  0.151454  0.743373         -0.504208 -0.134446  1.240837   \n",
      "2       -0.466596 -0.840931  0.651968         -1.052215 -1.886552  1.445114   \n",
      "\n",
      "        PURCHASES                     ONEOFF_PURCHASES  ...  \\\n",
      "             mean    median       std             mean  ...   \n",
      "Cluster                                                 ...   \n",
      "0        0.000001 -0.428147  1.000671        -0.000243  ...   \n",
      "1       -0.001111 -0.001023  0.001677         0.163585  ...   \n",
      "2       -0.000329 -0.000272  0.000951         0.288726  ...   \n",
      "\n",
      "        PURCHASE_TO_CREDIT_RATIO PAYMENT_TO_PURCHASE_RATIO               \\\n",
      "                             std                      mean       median   \n",
      "Cluster                                                                   \n",
      "0                       9.266912                  0.634561     0.785964   \n",
      "1                       0.018160               -829.930741  -740.171280   \n",
      "2                       0.001288               1080.876602  1116.555010   \n",
      "\n",
      "                    TOTAL_PURCHASE_FREQUENCY                     Cluster  \\\n",
      "                std                     mean    median       std    mean   \n",
      "Cluster                                                                    \n",
      "0         10.696730                -0.001005 -0.309805  2.452877     0.0   \n",
      "1        428.081319                 1.438601  1.113416  1.135547     1.0   \n",
      "2        254.998686                -0.841103 -1.260716  0.885306     2.0   \n",
      "\n",
      "                     \n",
      "        median  std  \n",
      "Cluster              \n",
      "0          0.0  0.0  \n",
      "1          1.0  0.0  \n",
      "2          2.0  0.0  \n",
      "\n",
      "[3 rows x 63 columns]\n"
     ]
    },
    {
     "data": {
      "text/plain": [
       "          BALANCE                     BALANCE_FREQUENCY                      \\\n",
       "             mean    median       std              mean    median       std   \n",
       "Cluster                                                                       \n",
       "0        0.000127 -0.336543  1.000370          0.000804  0.616459  0.999535   \n",
       "1        0.032901  0.151454  0.743373         -0.504208 -0.134446  1.240837   \n",
       "2       -0.466596 -0.840931  0.651968         -1.052215 -1.886552  1.445114   \n",
       "\n",
       "        PURCHASES                     ONEOFF_PURCHASES  ...  \\\n",
       "             mean    median       std             mean  ...   \n",
       "Cluster                                                 ...   \n",
       "0        0.000001 -0.428147  1.000671        -0.000243  ...   \n",
       "1       -0.001111 -0.001023  0.001677         0.163585  ...   \n",
       "2       -0.000329 -0.000272  0.000951         0.288726  ...   \n",
       "\n",
       "        PURCHASE_TO_CREDIT_RATIO PAYMENT_TO_PURCHASE_RATIO               \\\n",
       "                             std                      mean       median   \n",
       "Cluster                                                                   \n",
       "0                       9.266912                  0.634561     0.785964   \n",
       "1                       0.018160               -829.930741  -740.171280   \n",
       "2                       0.001288               1080.876602  1116.555010   \n",
       "\n",
       "                    TOTAL_PURCHASE_FREQUENCY                     Cluster  \\\n",
       "                std                     mean    median       std    mean   \n",
       "Cluster                                                                    \n",
       "0         10.696730                -0.001005 -0.309805  2.452877     0.0   \n",
       "1        428.081319                 1.438601  1.113416  1.135547     1.0   \n",
       "2        254.998686                -0.841103 -1.260716  0.885306     2.0   \n",
       "\n",
       "                     \n",
       "        median  std  \n",
       "Cluster              \n",
       "0          0.0  0.0  \n",
       "1          1.0  0.0  \n",
       "2          2.0  0.0  \n",
       "\n",
       "[3 rows x 63 columns]"
      ],
      "text/html": [
       "<div>\n",
       "<style scoped>\n",
       "    .dataframe tbody tr th:only-of-type {\n",
       "        vertical-align: middle;\n",
       "    }\n",
       "\n",
       "    .dataframe tbody tr th {\n",
       "        vertical-align: top;\n",
       "    }\n",
       "\n",
       "    .dataframe thead tr th {\n",
       "        text-align: left;\n",
       "    }\n",
       "\n",
       "    .dataframe thead tr:last-of-type th {\n",
       "        text-align: right;\n",
       "    }\n",
       "</style>\n",
       "<table border=\"1\" class=\"dataframe\">\n",
       "  <thead>\n",
       "    <tr>\n",
       "      <th></th>\n",
       "      <th colspan=\"3\" halign=\"left\">BALANCE</th>\n",
       "      <th colspan=\"3\" halign=\"left\">BALANCE_FREQUENCY</th>\n",
       "      <th colspan=\"3\" halign=\"left\">PURCHASES</th>\n",
       "      <th>ONEOFF_PURCHASES</th>\n",
       "      <th>...</th>\n",
       "      <th>PURCHASE_TO_CREDIT_RATIO</th>\n",
       "      <th colspan=\"3\" halign=\"left\">PAYMENT_TO_PURCHASE_RATIO</th>\n",
       "      <th colspan=\"3\" halign=\"left\">TOTAL_PURCHASE_FREQUENCY</th>\n",
       "      <th colspan=\"3\" halign=\"left\">Cluster</th>\n",
       "    </tr>\n",
       "    <tr>\n",
       "      <th></th>\n",
       "      <th>mean</th>\n",
       "      <th>median</th>\n",
       "      <th>std</th>\n",
       "      <th>mean</th>\n",
       "      <th>median</th>\n",
       "      <th>std</th>\n",
       "      <th>mean</th>\n",
       "      <th>median</th>\n",
       "      <th>std</th>\n",
       "      <th>mean</th>\n",
       "      <th>...</th>\n",
       "      <th>std</th>\n",
       "      <th>mean</th>\n",
       "      <th>median</th>\n",
       "      <th>std</th>\n",
       "      <th>mean</th>\n",
       "      <th>median</th>\n",
       "      <th>std</th>\n",
       "      <th>mean</th>\n",
       "      <th>median</th>\n",
       "      <th>std</th>\n",
       "    </tr>\n",
       "    <tr>\n",
       "      <th>Cluster</th>\n",
       "      <th></th>\n",
       "      <th></th>\n",
       "      <th></th>\n",
       "      <th></th>\n",
       "      <th></th>\n",
       "      <th></th>\n",
       "      <th></th>\n",
       "      <th></th>\n",
       "      <th></th>\n",
       "      <th></th>\n",
       "      <th></th>\n",
       "      <th></th>\n",
       "      <th></th>\n",
       "      <th></th>\n",
       "      <th></th>\n",
       "      <th></th>\n",
       "      <th></th>\n",
       "      <th></th>\n",
       "      <th></th>\n",
       "      <th></th>\n",
       "      <th></th>\n",
       "    </tr>\n",
       "  </thead>\n",
       "  <tbody>\n",
       "    <tr>\n",
       "      <th>0</th>\n",
       "      <td>0.000127</td>\n",
       "      <td>-0.336543</td>\n",
       "      <td>1.000370</td>\n",
       "      <td>0.000804</td>\n",
       "      <td>0.616459</td>\n",
       "      <td>0.999535</td>\n",
       "      <td>0.000001</td>\n",
       "      <td>-0.428147</td>\n",
       "      <td>1.000671</td>\n",
       "      <td>-0.000243</td>\n",
       "      <td>...</td>\n",
       "      <td>9.266912</td>\n",
       "      <td>0.634561</td>\n",
       "      <td>0.785964</td>\n",
       "      <td>10.696730</td>\n",
       "      <td>-0.001005</td>\n",
       "      <td>-0.309805</td>\n",
       "      <td>2.452877</td>\n",
       "      <td>0.0</td>\n",
       "      <td>0.0</td>\n",
       "      <td>0.0</td>\n",
       "    </tr>\n",
       "    <tr>\n",
       "      <th>1</th>\n",
       "      <td>0.032901</td>\n",
       "      <td>0.151454</td>\n",
       "      <td>0.743373</td>\n",
       "      <td>-0.504208</td>\n",
       "      <td>-0.134446</td>\n",
       "      <td>1.240837</td>\n",
       "      <td>-0.001111</td>\n",
       "      <td>-0.001023</td>\n",
       "      <td>0.001677</td>\n",
       "      <td>0.163585</td>\n",
       "      <td>...</td>\n",
       "      <td>0.018160</td>\n",
       "      <td>-829.930741</td>\n",
       "      <td>-740.171280</td>\n",
       "      <td>428.081319</td>\n",
       "      <td>1.438601</td>\n",
       "      <td>1.113416</td>\n",
       "      <td>1.135547</td>\n",
       "      <td>1.0</td>\n",
       "      <td>1.0</td>\n",
       "      <td>0.0</td>\n",
       "    </tr>\n",
       "    <tr>\n",
       "      <th>2</th>\n",
       "      <td>-0.466596</td>\n",
       "      <td>-0.840931</td>\n",
       "      <td>0.651968</td>\n",
       "      <td>-1.052215</td>\n",
       "      <td>-1.886552</td>\n",
       "      <td>1.445114</td>\n",
       "      <td>-0.000329</td>\n",
       "      <td>-0.000272</td>\n",
       "      <td>0.000951</td>\n",
       "      <td>0.288726</td>\n",
       "      <td>...</td>\n",
       "      <td>0.001288</td>\n",
       "      <td>1080.876602</td>\n",
       "      <td>1116.555010</td>\n",
       "      <td>254.998686</td>\n",
       "      <td>-0.841103</td>\n",
       "      <td>-1.260716</td>\n",
       "      <td>0.885306</td>\n",
       "      <td>2.0</td>\n",
       "      <td>2.0</td>\n",
       "      <td>0.0</td>\n",
       "    </tr>\n",
       "  </tbody>\n",
       "</table>\n",
       "<p>3 rows × 63 columns</p>\n",
       "</div>"
      ]
     },
     "execution_count": 60,
     "metadata": {},
     "output_type": "execute_result"
    }
   ],
   "execution_count": 60
  },
  {
   "metadata": {
    "ExecuteTime": {
     "end_time": "2024-07-17T21:55:58.456983Z",
     "start_time": "2024-07-17T21:55:58.448982Z"
    }
   },
   "cell_type": "code",
   "source": "analyzer.analyze_client_profiles(2)",
   "id": "776d71da17a9cc7c",
   "outputs": [
    {
     "name": "stdout",
     "output_type": "stream",
     "text": [
      "Perfil del Cluster 0:\n",
      "{'size': 8939, 'avg_balance': np.float64(0.00012714858793863552), 'avg_purchases': np.float64(1.1044177651310467e-06), 'avg_credit_limit': np.float64(-2.958757330745483e-06), 'common_tenure': np.int64(12)}\n",
      "\n",
      "\n",
      "Perfil del Cluster 1:\n",
      "{'size': 8, 'avg_balance': np.float64(0.032900751743227846), 'avg_purchases': np.float64(-0.0011106828268307198), 'avg_credit_limit': np.float64(0.14211574514611952), 'common_tenure': np.int64(12)}\n",
      "\n",
      "\n"
     ]
    },
    {
     "data": {
      "text/plain": [
       "{0: {'size': 8939,\n",
       "  'avg_balance': np.float64(0.00012714858793863552),\n",
       "  'avg_purchases': np.float64(1.1044177651310467e-06),\n",
       "  'avg_credit_limit': np.float64(-2.958757330745483e-06),\n",
       "  'common_tenure': np.int64(12)},\n",
       " 1: {'size': 8,\n",
       "  'avg_balance': np.float64(0.032900751743227846),\n",
       "  'avg_purchases': np.float64(-0.0011106828268307198),\n",
       "  'avg_credit_limit': np.float64(0.14211574514611952),\n",
       "  'common_tenure': np.int64(12)}}"
      ]
     },
     "execution_count": 61,
     "metadata": {},
     "output_type": "execute_result"
    }
   ],
   "execution_count": 61
  },
  {
   "metadata": {
    "ExecuteTime": {
     "end_time": "2024-07-17T21:55:59.647884Z",
     "start_time": "2024-07-17T21:55:59.645535Z"
    }
   },
   "cell_type": "code",
   "source": "analyzer.validate_clustering()",
   "id": "b2e8a0b084c6aa0c",
   "outputs": [
    {
     "name": "stdout",
     "output_type": "stream",
     "text": [
      "Coeficiente de silueta para 2 clusters: 0.9874\n",
      "Coeficiente de silueta para 3 clusters: 0.9879\n"
     ]
    }
   ],
   "execution_count": 62
  },
  {
   "metadata": {
    "ExecuteTime": {
     "end_time": "2024-07-17T21:56:01.113315Z",
     "start_time": "2024-07-17T21:56:01.086536Z"
    }
   },
   "cell_type": "code",
   "source": "analyzer.interpret_results(3)",
   "id": "26a0ded6d94bca6c",
   "outputs": [
    {
     "name": "stdout",
     "output_type": "stream",
     "text": [
      "Perfil del Cluster 0:\n",
      "{'size': 8939, 'avg_balance': np.float64(0.00012714858793863552), 'avg_purchases': np.float64(1.1044177651310467e-06), 'avg_credit_limit': np.float64(-2.958757330745483e-06), 'common_tenure': np.int64(12)}\n",
      "\n",
      "\n",
      "Perfil del Cluster 1:\n",
      "{'size': 8, 'avg_balance': np.float64(0.032900751743227846), 'avg_purchases': np.float64(-0.0011106828268307198), 'avg_credit_limit': np.float64(0.14211574514611952), 'common_tenure': np.int64(12)}\n",
      "\n",
      "\n",
      "Perfil del Cluster 2:\n",
      "{'size': 3, 'avg_balance': np.float64(-0.46659574717666247), 'avg_purchases': np.float64(-0.0003289759288632493), 'avg_credit_limit': np.float64(-0.3701592097964073), 'common_tenure': np.int64(12)}\n",
      "\n",
      "\n",
      "Interpretación del Cluster 0:\n",
      "- Clientes con saldo alto\n",
      "- Compradores frecuentes\n",
      "- Límite de crédito promedio: $-0.00\n",
      "- Antigüedad típica: 12 meses\n",
      "\n",
      "Estrategias sugeridas:\n",
      "- Ofrecer programas de recompensas para mantener la lealtad\n",
      "- Ofrecer productos de ahorro o inversión\n",
      "\n",
      "\n",
      "Interpretación del Cluster 1:\n",
      "- Clientes con saldo alto\n",
      "- Compradores poco frecuentes\n",
      "- Límite de crédito promedio: $0.14\n",
      "- Antigüedad típica: 12 meses\n",
      "\n",
      "Estrategias sugeridas:\n",
      "- Incentivar el uso de la tarjeta con promociones especiales\n",
      "- Ofrecer productos de ahorro o inversión\n",
      "\n",
      "\n",
      "Interpretación del Cluster 2:\n",
      "- Clientes con saldo bajo\n",
      "- Compradores poco frecuentes\n",
      "- Límite de crédito promedio: $-0.37\n",
      "- Antigüedad típica: 12 meses\n",
      "\n",
      "Estrategias sugeridas:\n",
      "- Incentivar el uso de la tarjeta con promociones especiales\n",
      "- Considerar aumentar el límite de crédito para clientes confiables\n",
      "\n",
      "\n"
     ]
    }
   ],
   "execution_count": 63
  },
  {
   "metadata": {
    "ExecuteTime": {
     "end_time": "2024-07-17T21:59:22.625268Z",
     "start_time": "2024-07-17T21:59:22.602325Z"
    }
   },
   "cell_type": "code",
   "source": [
    "import joblib\n",
    "\n",
    "# Guardar el modelo PCA\n",
    "joblib.dump(pca_analyzer.pca, '../models/pca_model.pkl')"
   ],
   "id": "3322f6c09218ce74",
   "outputs": [
    {
     "data": {
      "text/plain": [
       "['../models/pca_model.pkl']"
      ]
     },
     "execution_count": 64,
     "metadata": {},
     "output_type": "execute_result"
    }
   ],
   "execution_count": 64
  },
  {
   "metadata": {
    "ExecuteTime": {
     "end_time": "2024-07-17T21:59:47.376519Z",
     "start_time": "2024-07-17T21:59:47.357805Z"
    }
   },
   "cell_type": "code",
   "source": [
    "# Guardar el modelo de K-Means con el número óptimo de clusters\n",
    "optimal_kmeans_model = KMeans(n_clusters=3, random_state=42)\n",
    "optimal_kmeans_model.fit(pca_data.drop(['CUST_ID', 'TENURE'], axis=1, errors='ignore'))\n",
    "joblib.dump(optimal_kmeans_model, '../models/kmeans_model.pkl')"
   ],
   "id": "f2b339d93ac6bc23",
   "outputs": [
    {
     "data": {
      "text/plain": [
       "['../models/kmeans_model.pkl']"
      ]
     },
     "execution_count": 65,
     "metadata": {},
     "output_type": "execute_result"
    }
   ],
   "execution_count": 65
  },
  {
   "metadata": {
    "ExecuteTime": {
     "end_time": "2024-07-17T22:00:19.980052Z",
     "start_time": "2024-07-17T22:00:19.910860Z"
    }
   },
   "cell_type": "code",
   "source": [
    "# Guardar el DataFrame resultante con los clusters asignados\n",
    "pca_data['Cluster'] = optimal_kmeans_model.labels_\n",
    "pca_data.to_csv(\"../data/processed_data/creditcards_clusters.csv\", index=False)\n",
    "\n",
    "logging.info(\"Modelos y datos guardados exitosamente.\")"
   ],
   "id": "226b5e9010212349",
   "outputs": [
    {
     "name": "stderr",
     "output_type": "stream",
     "text": [
      "2024-07-18 00:00:19,968 - INFO - Modelos y datos guardados exitosamente.\n"
     ]
    }
   ],
   "execution_count": 66
  },
  {
   "metadata": {},
   "cell_type": "code",
   "outputs": [],
   "execution_count": null,
   "source": "",
   "id": "bae1b1a6b138adfe"
  }
 ],
 "metadata": {
  "kernelspec": {
   "display_name": "Python 3",
   "language": "python",
   "name": "python3"
  },
  "language_info": {
   "codemirror_mode": {
    "name": "ipython",
    "version": 2
   },
   "file_extension": ".py",
   "mimetype": "text/x-python",
   "name": "python",
   "nbconvert_exporter": "python",
   "pygments_lexer": "ipython2",
   "version": "2.7.6"
  }
 },
 "nbformat": 4,
 "nbformat_minor": 5
}
